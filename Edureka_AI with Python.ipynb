{
 "cells": [
  {
   "cell_type": "code",
   "execution_count": 1,
   "metadata": {},
   "outputs": [
    {
     "data": {
      "text/plain": [
       "'C:\\\\Users\\\\Administrator\\\\Python_work\\\\Edureka'"
      ]
     },
     "execution_count": 1,
     "metadata": {},
     "output_type": "execute_result"
    }
   ],
   "source": [
    "# Enabling print for all lines\n",
    "from IPython.core.interactiveshell import InteractiveShell\n",
    "InteractiveShell.ast_node_interactivity = \"all\"\n",
    "\n",
    "# Checking the working directory\n",
    "import os\n",
    "os.getcwd()"
   ]
  },
  {
   "cell_type": "markdown",
   "metadata": {},
   "source": [
    "**1. TENSORFLOW**"
   ]
  },
  {
   "cell_type": "code",
   "execution_count": 2,
   "metadata": {},
   "outputs": [
    {
     "name": "stdout",
     "output_type": "stream",
     "text": [
      "The vesion of tensorflow is 2.3.0\n",
      "WARNING:tensorflow:From C:\\Users\\Administrator\\anaconda3\\lib\\site-packages\\tensorflow\\python\\compat\\v2_compat.py:96: disable_resource_variables (from tensorflow.python.ops.variable_scope) is deprecated and will be removed in a future version.\n",
      "Instructions for updating:\n",
      "non-resource variables are not supported in the long term\n"
     ]
    }
   ],
   "source": [
    "import tensorflow as tf\n",
    "print(\"The vesion of tensorflow is\",tf.__version__)\n",
    "\n",
    "import numpy as np\n",
    "\n",
    "import tensorflow.compat.v1 as tf\n",
    "tf.disable_v2_behavior()\n",
    "\n",
    "# from tensorflow.examples.tutorials.mnist import input_data\n",
    "# import input_data"
   ]
  },
  {
   "cell_type": "code",
   "execution_count": 3,
   "metadata": {},
   "outputs": [
    {
     "data": {
      "text/plain": [
       "tensorflow.python.framework.ops.Tensor"
      ]
     },
     "execution_count": 3,
     "metadata": {},
     "output_type": "execute_result"
    },
    {
     "name": "stdout",
     "output_type": "stream",
     "text": [
      "Tensor(\"Mul:0\", shape=(4,), dtype=int32)\n"
     ]
    },
    {
     "data": {
      "text/plain": [
       "tensorflow.python.framework.ops.Tensor"
      ]
     },
     "execution_count": 3,
     "metadata": {},
     "output_type": "execute_result"
    },
    {
     "data": {
      "text/plain": [
       "<tf.Operation 'PrintV2' type=PrintV2>"
      ]
     },
     "execution_count": 3,
     "metadata": {},
     "output_type": "execute_result"
    },
    {
     "name": "stdout",
     "output_type": "stream",
     "text": [
      "[ 5 12 21 32]\n"
     ]
    }
   ],
   "source": [
    "# Initialize two constants\n",
    "x1 = tf.constant([1,2,3,4])\n",
    "type(x1)\n",
    "x2 = tf.constant([5,6,7,8])\n",
    "\n",
    "# Multiply\n",
    "result = tf.multiply(x1, x2)\n",
    "print(result)\n",
    "type(result)\n",
    "tf.print(result)\n",
    "\n",
    "# Intialize the Session\n",
    "sess = tf.compat.v1.Session()\n",
    "\n",
    "# Print the result\n",
    "print(sess.run(result))\n",
    "\n",
    "# Close the session\n",
    "sess.close()"
   ]
  },
  {
   "cell_type": "code",
   "execution_count": 4,
   "metadata": {},
   "outputs": [
    {
     "data": {
      "text/plain": [
       "<tf.Operation 'PrintV2_1' type=PrintV2>"
      ]
     },
     "execution_count": 4,
     "metadata": {},
     "output_type": "execute_result"
    },
    {
     "name": "stdout",
     "output_type": "stream",
     "text": [
      "[ 5 12 21 32]\n"
     ]
    }
   ],
   "source": [
    "# Initialize two constants\n",
    "x1 = tf.constant([1,2,3,4])\n",
    "x2 = tf.constant([5,6,7,8])\n",
    "\n",
    "# Multiply\n",
    "result = tf.multiply(x1, x2)\n",
    "tf.print(result)\n",
    "\n",
    "# Initialize Session and run `result`\n",
    "with tf.compat.v1.Session() as sess:\n",
    "    output = sess.run(result)\n",
    "    print(output)"
   ]
  },
  {
   "cell_type": "code",
   "execution_count": 5,
   "metadata": {},
   "outputs": [],
   "source": [
    "# Creating nodes in computation graph \n",
    "node1 = tf.constant(3, dtype=tf.int32) \n",
    "node2 = tf.constant(5, dtype=tf.int32) \n",
    "node3 = tf.add(node1, node2)"
   ]
  },
  {
   "cell_type": "code",
   "execution_count": 6,
   "metadata": {},
   "outputs": [],
   "source": [
    "# Create a TensorFlow constant\n",
    "const = tf.constant(2.0, name=\"const\")\n",
    "    \n",
    "# Create TensorFlow variables\n",
    "b = tf.Variable(2.0, name='b')\n",
    "c = tf.Variable(1.0, name='c')"
   ]
  },
  {
   "cell_type": "code",
   "execution_count": 7,
   "metadata": {},
   "outputs": [],
   "source": [
    "# Tensorflow operations\n",
    "d = tf.add(b, c, name='d')\n",
    "e = tf.add(c, const, name='e')\n",
    "a = tf.multiply(d, e, name='a')"
   ]
  },
  {
   "cell_type": "code",
   "execution_count": 8,
   "metadata": {},
   "outputs": [
    {
     "name": "stdout",
     "output_type": "stream",
     "text": [
      "Variable a is 9.0\n"
     ]
    }
   ],
   "source": [
    "# setup the variable initialisation\n",
    "init_op = tf.global_variables_initializer()\n",
    "\n",
    "# start the session\n",
    "with tf.Session() as sess:\n",
    "    # initialise the variables\n",
    "    sess.run(init_op)\n",
    "    # compute the output of the graph\n",
    "    a_out = sess.run(a)\n",
    "    print(\"Variable a is {}\".format(a_out))"
   ]
  },
  {
   "cell_type": "code",
   "execution_count": 9,
   "metadata": {},
   "outputs": [],
   "source": [
    "# Create TensorFlow variable\n",
    "b = tf.placeholder(tf.float32, [None, 1], name='b')\n",
    "# a_out = sess.run(a, feed_dict={b: np.arange(0, 10)[:, np.newaxis]})"
   ]
  },
  {
   "cell_type": "code",
   "execution_count": 27,
   "metadata": {},
   "outputs": [],
   "source": [
    "# Loading the data from  tensorflow\n",
    "# mnist = input_data.read_data_sets(\"MNIST_data/\", one_hot=True)\n",
    "(train_images, train_labels), (test_images, test_labels) = tf.keras.datasets.mnist.load_data()"
   ]
  },
  {
   "cell_type": "code",
   "execution_count": 11,
   "metadata": {},
   "outputs": [
    {
     "data": {
      "text/plain": [
       "(numpy.ndarray, numpy.ndarray)"
      ]
     },
     "execution_count": 11,
     "metadata": {},
     "output_type": "execute_result"
    },
    {
     "data": {
      "text/plain": [
       "((60000, 28, 28), (60000,))"
      ]
     },
     "execution_count": 11,
     "metadata": {},
     "output_type": "execute_result"
    }
   ],
   "source": [
    "# Checking the properties of the loaded data\n",
    "type(train_images), type(train_labels)\n",
    "train_images.shape, train_labels.shape"
   ]
  },
  {
   "cell_type": "code",
   "execution_count": 12,
   "metadata": {},
   "outputs": [],
   "source": [
    "# Setting up optimisation variables\n",
    "learning_rate = 0.5\n",
    "epochs = 10\n",
    "batch_size = 100"
   ]
  },
  {
   "cell_type": "code",
   "execution_count": 13,
   "metadata": {},
   "outputs": [],
   "source": [
    "# Declare the training data placeholders. Input x - for 28 x 28 pixels = 784\n",
    "x = tf.placeholder(tf.float32, [None, 784])\n",
    "\n",
    "# Declare the output data placeholder - 10 digits\n",
    "y = tf.placeholder(tf.float32, [None, 10])"
   ]
  },
  {
   "cell_type": "code",
   "execution_count": 14,
   "metadata": {},
   "outputs": [],
   "source": [
    "# Declare the weights connecting the input to the hidden layer\n",
    "W1 = tf.Variable(tf.random_normal([784, 300], stddev=0.03), name='W1')\n",
    "b1 = tf.Variable(tf.random_normal([300]), name='b1')\n",
    "\n",
    "# Weights connecting the hidden layer to the output layer\n",
    "W2 = tf.Variable(tf.random_normal([300, 10], stddev=0.03), name='W2')\n",
    "b2 = tf.Variable(tf.random_normal([10]), name='b2')"
   ]
  },
  {
   "cell_type": "code",
   "execution_count": 15,
   "metadata": {},
   "outputs": [],
   "source": [
    "# Calculate the output of the hidden layer\n",
    "hidden_out = tf.add(tf.matmul(x, W1), b1)\n",
    "hidden_out = tf.nn.relu(hidden_out)"
   ]
  },
  {
   "cell_type": "code",
   "execution_count": 16,
   "metadata": {},
   "outputs": [],
   "source": [
    "# Calculate the hidden layer output - in this case, let's use a softmax activated\n",
    "y_ = tf.nn.softmax(tf.add(tf.matmul(hidden_out, W2), b2))\n",
    "\n",
    "y_clipped = tf.clip_by_value(y_, 1e-10, 0.9999999)\n",
    "cross_entropy = -tf.reduce_mean(tf.reduce_sum(y * tf.log(y_clipped) + (1 - y) * tf.log(1 - y_clipped), axis=1))"
   ]
  },
  {
   "cell_type": "code",
   "execution_count": 17,
   "metadata": {},
   "outputs": [],
   "source": [
    "# Adding an optimiser\n",
    "optimiser = tf.train.GradientDescentOptimizer(learning_rate=learning_rate).minimize(cross_entropy)"
   ]
  },
  {
   "cell_type": "code",
   "execution_count": 18,
   "metadata": {},
   "outputs": [],
   "source": [
    "# Finally setup the initialisation operator\n",
    "init_op = tf.global_variables_initializer()\n",
    "\n",
    "# Define an accuracy assessment operation\n",
    "correct_prediction = tf.equal(tf.argmax(y, 1), tf.argmax(y_, 1))\n",
    "accuracy = tf.reduce_mean(tf.cast(correct_prediction, tf.float32))"
   ]
  },
  {
   "cell_type": "raw",
   "metadata": {},
   "source": [
    "# Setting up the training session# start the session\n",
    "\n",
    "with tf.Session() as sess:\n",
    "    sess.run(init_op)\n",
    "    total_batch = int(len(train_labels)/batch_size)\n",
    "    \n",
    "    for epoch in range(epochs):\n",
    "        avg_cost = 0\n",
    "        \n",
    "        for i in range(total_batch):\n",
    "            batch_x, batch_y = mnist.train.next_batch(batch_size=batch_size)\n",
    "            d, c = sess.run([optimiser, cross_entropy], feed_dict={x: batch_x, y: batch_y})\n",
    "            avg_cost += c / total_batch\n",
    "            \n",
    "        print(\"Epoch:\", (epoch + 1), \"cost =\", \"{:.3f}\".format(avg_cost))\n",
    "        \n",
    "    print(sess.run(accuracy, feed_dict={x: test_images, y: test_labels}))"
   ]
  },
  {
   "cell_type": "code",
   "execution_count": null,
   "metadata": {},
   "outputs": [],
   "source": []
  },
  {
   "cell_type": "code",
   "execution_count": null,
   "metadata": {},
   "outputs": [],
   "source": []
  },
  {
   "cell_type": "markdown",
   "metadata": {},
   "source": [
    "**2. SCIKIT LEARN**"
   ]
  },
  {
   "cell_type": "code",
   "execution_count": 2,
   "metadata": {},
   "outputs": [],
   "source": [
    "# Import libraries\n",
    "import pandas as pd\n",
    "import numpy as np\n",
    "\n",
    "import matplotlib.pyplot as plt\n",
    "%matplotlib inline\n",
    "\n",
    "from sklearn.model_selection import train_test_split\n",
    "\n",
    "from sklearn.preprocessing import StandardScaler, OneHotEncoder, LabelEncoder\n",
    "from sklearn.compose import ColumnTransformer, make_column_transformer, make_column_selector\n",
    "from sklearn.pipeline import make_pipeline, Pipeline\n",
    "from sklearn.linear_model import LogisticRegression\n",
    "\n",
    "from sklearn.metrics import classification_report, confusion_matrix\n",
    "from sklearn.model_selection import GridSearchCV\n",
    "\n",
    "import warnings\n",
    "warnings.filterwarnings(\"ignore\")"
   ]
  },
  {
   "cell_type": "code",
   "execution_count": 3,
   "metadata": {},
   "outputs": [],
   "source": [
    "# Define the columns to be used\n",
    "COLUMNS = ['age','workclass', 'fnlwgt', 'education', 'education_num', 'marital', 'occupation', 'relationship', 'race', 'sex',\n",
    "           'capital_gain', 'capital_loss', 'hours_week', 'native_country', 'label']\n",
    "\n",
    "# Define continuous list\n",
    "CONTI_FEATURES  = ['age', 'fnlwgt','capital_gain', 'education_num', 'capital_loss', 'hours_week']\n",
    "\n",
    "# Define categorical list\n",
    "CATE_FEATURES = ['workclass', 'education', 'marital', 'occupation', 'relationship', 'race', 'sex', 'native_country']\n",
    "\n",
    "# Prepare the data\n",
    "features = ['age','workclass', 'fnlwgt', 'education', 'education_num', 'marital', 'occupation', 'relationship', 'race', 'sex',\n",
    "            'capital_gain', 'capital_loss', 'hours_week', 'native_country']"
   ]
  },
  {
   "cell_type": "code",
   "execution_count": 4,
   "metadata": {},
   "outputs": [
    {
     "data": {
      "text/plain": [
       "(32561, 15)"
      ]
     },
     "execution_count": 4,
     "metadata": {},
     "output_type": "execute_result"
    },
    {
     "name": "stdout",
     "output_type": "stream",
     "text": [
      "<class 'pandas.core.frame.DataFrame'>\n",
      "RangeIndex: 32561 entries, 0 to 32560\n",
      "Data columns (total 15 columns):\n",
      " #   Column          Non-Null Count  Dtype  \n",
      "---  ------          --------------  -----  \n",
      " 0   age             32561 non-null  float64\n",
      " 1   workclass       32561 non-null  object \n",
      " 2   fnlwgt          32561 non-null  float64\n",
      " 3   education       32561 non-null  object \n",
      " 4   education_num   32561 non-null  float64\n",
      " 5   marital         32561 non-null  object \n",
      " 6   occupation      32561 non-null  object \n",
      " 7   relationship    32561 non-null  object \n",
      " 8   race            32561 non-null  object \n",
      " 9   sex             32561 non-null  object \n",
      " 10  capital_gain    32561 non-null  float64\n",
      " 11  capital_loss    32561 non-null  float64\n",
      " 12  hours_week      32561 non-null  float64\n",
      " 13  native_country  32561 non-null  object \n",
      " 14  label           32561 non-null  object \n",
      "dtypes: float64(6), object(9)\n",
      "memory usage: 3.7+ MB\n"
     ]
    }
   ],
   "source": [
    "# Reading the path for the data\n",
    "PATH = \"https://archive.ics.uci.edu/ml/machine-learning-databases/adult/adult.data\"\n",
    "\n",
    "# Reading the data from the above path\n",
    "df_train = pd.read_csv(PATH, skipinitialspace=True, names = COLUMNS, index_col=False)\n",
    "df_train[CONTI_FEATURES] =df_train[CONTI_FEATURES].astype('float64')\n",
    "df_train.shape\n",
    "df_train.info()"
   ]
  },
  {
   "cell_type": "code",
   "execution_count": 5,
   "metadata": {},
   "outputs": [
    {
     "data": {
      "text/plain": [
       "United-States    29170\n",
       "Mexico             643\n",
       "?                  583\n",
       "Philippines        198\n",
       "Germany            137\n",
       "Canada             121\n",
       "Name: native_country, dtype: int64"
      ]
     },
     "execution_count": 5,
     "metadata": {},
     "output_type": "execute_result"
    }
   ],
   "source": [
    "# Check the count of unique values of the native_country features\n",
    "df_train.native_country.value_counts().head(6)\n",
    "\n",
    "# Drop Netherland, because only one row\n",
    "df_train = df_train[df_train.native_country != \"Holand-Netherlands\"]"
   ]
  },
  {
   "cell_type": "code",
   "execution_count": 6,
   "metadata": {},
   "outputs": [
    {
     "name": "stdout",
     "output_type": "stream",
     "text": [
      "[0, 2, 10, 4, 11, 12]\n"
     ]
    }
   ],
   "source": [
    "# Will loop over all columns names in CONTI_FEATURES and get its index and then append it to a list called conti_features\n",
    "conti_features = []\n",
    "\n",
    "for i in CONTI_FEATURES:\n",
    "    position = df_train.columns.get_loc(i)\n",
    "    conti_features.append(position)\n",
    "    \n",
    "print(conti_features)"
   ]
  },
  {
   "cell_type": "code",
   "execution_count": 7,
   "metadata": {},
   "outputs": [
    {
     "name": "stdout",
     "output_type": "stream",
     "text": [
      "[1, 3, 5, 6, 7, 8, 9, 13]\n",
      "==================================================================\n",
      "workclass          9\n",
      "education         16\n",
      "marital            7\n",
      "occupation        15\n",
      "relationship       6\n",
      "race               5\n",
      "sex                2\n",
      "native_country    41\n",
      "dtype: int64 There are 101 groups in the whole dataset\n",
      "==================================================================\n"
     ]
    }
   ],
   "source": [
    "# Get the column index of the categorical features\n",
    "categorical_features = []\n",
    "\n",
    "for i in CATE_FEATURES:\n",
    "    position = df_train.columns.get_loc(i)\n",
    "    categorical_features.append(position)\n",
    "    \n",
    "print(categorical_features)\n",
    "print(\"==================================================================\")\n",
    "\n",
    "print(df_train[CATE_FEATURES].nunique(), 'There are',sum(df_train[CATE_FEATURES].nunique()), 'groups in the whole dataset')\n",
    "print(\"==================================================================\")\n",
    "\n",
    "# for i in CATE_FEATURES:\n",
    "#     print(df_train[i].unique())"
   ]
  },
  {
   "cell_type": "markdown",
   "metadata": {},
   "source": [
    "Therefore, the training dataset will contain 101 + 7 columns. The last seven columns are the continuous features.\n",
    "\n",
    "Scikit-learn can take care of the conversion. It is done in two steps:\n",
    "\n",
    "- First, you need to convert the string to ID. For instance, State-gov will have the ID 1, Self-emp-not-inc ID 2 and so on. The function LabelEncoder does this for you\n",
    "- Transpose each ID into a new column. The dataset has 101 group's ID. Therefore there will be 101 columns capturing all categoricals features' groups. Scikit-learn has a function called OneHotEncoder that performs this operation"
   ]
  },
  {
   "cell_type": "raw",
   "metadata": {},
   "source": [
    "df_train[features].shape\n",
    "df_train[features].columns"
   ]
  },
  {
   "cell_type": "code",
   "execution_count": 8,
   "metadata": {},
   "outputs": [
    {
     "name": "stdout",
     "output_type": "stream",
     "text": [
      "(26048, 14) (26048,)\n",
      "(6512, 14) (6512,)\n"
     ]
    }
   ],
   "source": [
    "# Create the train/test set\n",
    "# Now that the dataset is ready, we can split it 80/20. 80 percent for the training set and 20 percent for the test set\n",
    "\n",
    "X_train, X_test, y_train, y_test = train_test_split(df_train[features], df_train.label, test_size = 0.2, random_state=113)\n",
    "print(X_train.shape, y_train.shape)\n",
    "print(X_test.shape, y_test.shape)"
   ]
  },
  {
   "cell_type": "markdown",
   "metadata": {},
   "source": [
    "- The pipeline makes it easier to feed the model with consistent data\n",
    "- The idea behind is to put the raw data into a 'pipeline' to perform operations\n",
    "- For instance, with the current dataset, you need to standardize the continuous variables and convert the categorical data\n",
    "- Note that you can perform any operation inside the pipeline\n",
    "- For instance, if you have 'NA's' in the dataset, you can replace them by the mean or medianm\n",
    "- You can also create new variables"
   ]
  },
  {
   "cell_type": "code",
   "execution_count": 9,
   "metadata": {},
   "outputs": [
    {
     "data": {
      "text/plain": [
       "(26048, 107)"
      ]
     },
     "execution_count": 9,
     "metadata": {},
     "output_type": "execute_result"
    },
    {
     "data": {
      "text/plain": [
       "sklearn.compose._column_transformer.ColumnTransformer"
      ]
     },
     "execution_count": 9,
     "metadata": {},
     "output_type": "execute_result"
    },
    {
     "data": {
      "text/plain": [
       "sklearn.pipeline.Pipeline"
      ]
     },
     "execution_count": 9,
     "metadata": {},
     "output_type": "execute_result"
    }
   ],
   "source": [
    "# Build the pipeline\n",
    "# The object OneHotEncoder inside make_column_transformer automatically encodes the label\n",
    "preprocess = make_column_transformer((StandardScaler(), make_column_selector(dtype_include = np.number)),\n",
    "                                     (OneHotEncoder(), make_column_selector(dtype_include = object)))\n",
    "# type(preprocess)\n",
    "\n",
    "# You can test if the pipeline works with fit_transform. The dataset should have the following shape: 26048, 107\n",
    "preprocess.fit_transform(X_train).shape\n",
    "type(preprocess)\n",
    "\n",
    "# Create the pipeline with make_pipeline. Once the data are transformed, you can feed the logistic regression.\n",
    "model = make_pipeline(preprocess, LogisticRegression(solver='liblinear', random_state=0))\n",
    "type(model)"
   ]
  },
  {
   "cell_type": "raw",
   "metadata": {},
   "source": [
    "# Create a model and train it\n",
    "model = LogisticRegression(solver='liblinear', random_state=0)\n",
    "\n",
    "# We will use the object .fit to fit the logistic regression model on the training data\n",
    "model.fit(X_train, y_train)\n",
    "# model = LogisticRegression(solver='liblinear', random_state=0).fit(x, y)\n",
    "\n",
    "# Once we fit the model, we can check a lot of things\n",
    "print(\"Classes present in the model are:\", model.classes_)\n",
    "print(\"The intercept of the model is \", model.intercept_)\n",
    "print(\"The model co-efficient is \", model.coef_)"
   ]
  },
  {
   "cell_type": "code",
   "execution_count": 10,
   "metadata": {},
   "outputs": [],
   "source": [
    "# model.named_steps\n",
    "# model.classes_\n",
    "# model.set_params"
   ]
  },
  {
   "cell_type": "code",
   "execution_count": 11,
   "metadata": {},
   "outputs": [],
   "source": [
    "# Once we fit the model, we can check a lot of things\n",
    "# print(\"Classes present in the model are:\", model.classes_)\n",
    "# print(\"The intercept of the model is \", model.intercept_)\n",
    "# print(\"The model co-efficient is \", model.coef_)"
   ]
  },
  {
   "cell_type": "code",
   "execution_count": 12,
   "metadata": {},
   "outputs": [
    {
     "data": {
      "text/plain": [
       "Pipeline(steps=[('columntransformer',\n",
       "                 ColumnTransformer(transformers=[('standardscaler',\n",
       "                                                  StandardScaler(),\n",
       "                                                  <sklearn.compose._column_transformer.make_column_selector object at 0x0000020AE1CC7430>),\n",
       "                                                 ('onehotencoder',\n",
       "                                                  OneHotEncoder(),\n",
       "                                                  <sklearn.compose._column_transformer.make_column_selector object at 0x0000020AE1C24CD0>)])),\n",
       "                ('logisticregression',\n",
       "                 LogisticRegression(random_state=0, solver='liblinear'))])"
      ]
     },
     "execution_count": 12,
     "metadata": {},
     "output_type": "execute_result"
    },
    {
     "data": {
      "text/plain": [
       "array([[9.50153003e-01, 4.98469975e-02],\n",
       "       [8.54606951e-01, 1.45393049e-01],\n",
       "       [9.99594321e-01, 4.05679239e-04],\n",
       "       ...,\n",
       "       [3.40911194e-01, 6.59088806e-01],\n",
       "       [2.96496479e-01, 7.03503521e-01],\n",
       "       [6.25576647e-01, 3.74423353e-01]])"
      ]
     },
     "execution_count": 12,
     "metadata": {},
     "output_type": "execute_result"
    },
    {
     "data": {
      "text/plain": [
       "array(['<=50K', '<=50K', '<=50K', ..., '>50K', '>50K', '<=50K'],\n",
       "      dtype=object)"
      ]
     },
     "execution_count": 12,
     "metadata": {},
     "output_type": "execute_result"
    }
   ],
   "source": [
    "# Fit the model pipeline on the training data\n",
    "model.fit(X_train, y_train)\n",
    "\n",
    "# lets evaluate our model on the test data\n",
    "model.predict_proba(X_test)\n",
    "\n",
    "# The above command predicts the probability, but we require the output in the form of classes\n",
    "model.predict(X_test)"
   ]
  },
  {
   "cell_type": "code",
   "execution_count": 13,
   "metadata": {},
   "outputs": [
    {
     "name": "stdout",
     "output_type": "stream",
     "text": [
      "logistic regression score: 0.848280\n"
     ]
    }
   ],
   "source": [
    "# Lets check the performance of the model on the test data by calculating the mdoel accuracy\n",
    "print(\"logistic regression score: %f\" % model.score(X_test, y_test))"
   ]
  },
  {
   "cell_type": "code",
   "execution_count": 14,
   "metadata": {},
   "outputs": [
    {
     "data": {
      "image/png": "[encoded data removed]",
      "text/plain": [
       "<Figure size 576x576 with 1 Axes>"
      ]
     },
     "metadata": {
      "needs_background": "light"
     },
     "output_type": "display_data"
    }
   ],
   "source": [
    "# Lets build the classification heatmap\n",
    "cm = confusion_matrix(y_test, model.predict(X_test))\n",
    "\n",
    "fig, ax = plt.subplots(figsize=(8, 8))\n",
    "ax.imshow(cm)\n",
    "ax.grid(False)\n",
    "ax.xaxis.set(ticks=(0, 1), ticklabels=('Predicted 0s', 'Predicted 1s'))\n",
    "ax.yaxis.set(ticks=(0, 1), ticklabels=('Actual 0s', 'Actual 1s'))\n",
    "ax.set_ylim(1.5, -0.5)\n",
    "for i in range(2):\n",
    "    for j in range(2):\n",
    "        ax.text(j, i, cm[i, j], ha='center', va='center', color='red')\n",
    "plt.show();"
   ]
  },
  {
   "cell_type": "code",
   "execution_count": 15,
   "metadata": {},
   "outputs": [
    {
     "name": "stdout",
     "output_type": "stream",
     "text": [
      "              precision    recall  f1-score   support\n",
      "\n",
      "       <=50K       0.88      0.93      0.90      4967\n",
      "        >50K       0.72      0.59      0.65      1545\n",
      "\n",
      "    accuracy                           0.85      6512\n",
      "   macro avg       0.80      0.76      0.78      6512\n",
      "weighted avg       0.84      0.85      0.84      6512\n",
      "\n"
     ]
    }
   ],
   "source": [
    "# Classification report gives us other model parameters which coudl be useful\n",
    "print(classification_report(y_test, model.predict(X_test)))"
   ]
  },
  {
   "cell_type": "raw",
   "metadata": {},
   "source": [
    "# Building the pipeline once again\n",
    "numeric_transformer = Pipeline(steps=[('scaler', StandardScaler())])\n",
    "categorical_transformer = Pipeline(steps=[('onehot', OneHotEncoder(handle_unknown='ignore'))])\n",
    "\n",
    "preprocessor = ColumnTransformer(transformers=[('num', numeric_transformer, conti_features),\n",
    "                                               ('cat', categorical_transformer, categorical_features)])\n",
    "\n",
    "pipe = Pipeline(steps=[('preprocessor', preprocessor), ('classifier', LogisticRegression())])"
   ]
  },
  {
   "cell_type": "raw",
   "metadata": {},
   "source": [
    "trans = ColumnTransformer(transformers =[('enc', OneHotEncoder(sparse = False, drop ='first'), categorical_features),\n",
    "                                        ('scale', StandardScaler(), conti_features),], remainder ='passthrough')\n",
    "type(trans)"
   ]
  },
  {
   "cell_type": "code",
   "execution_count": 20,
   "metadata": {},
   "outputs": [
    {
     "data": {
      "text/plain": [
       "GridSearchCV(cv=7,\n",
       "             estimator=Pipeline(steps=[('columntransformer',\n",
       "                                        ColumnTransformer(transformers=[('standardscaler',\n",
       "                                                                         StandardScaler(),\n",
       "                                                                         <sklearn.compose._column_transformer.make_column_selector object at 0x0000020AE1CC7430>),\n",
       "                                                                        ('onehotencoder',\n",
       "                                                                         OneHotEncoder(),\n",
       "                                                                         <sklearn.compose._column_transformer.make_column_selector object at 0x0000020AE1C24CD0>)])),\n",
       "                                       ('logisticregression',\n",
       "                                        LogisticRegression(random_state=0,\n",
       "                                                           solver='liblinear'))]),\n",
       "             n_jobs=-1,\n",
       "             param_grid={'logisticregression__C': [0.01, 0.05, 0.1, 0.5, 1, 5,\n",
       "                                                   10],\n",
       "                         'logisticregression__penalty': ['l1', 'l2']},\n",
       "             scoring='roc_auc')"
      ]
     },
     "execution_count": 20,
     "metadata": {},
     "output_type": "execute_result"
    }
   ],
   "source": [
    "# Improving the model performance\n",
    "\n",
    "# logistic = LogisticRegression(max_iter=10000, tol=0.1)\n",
    "# pipe = Pipeline(steps=[('logistic', logistic),('transformation', trans)])\n",
    "# type(pipe)\n",
    "\n",
    "# param_grid = {'logistic__C': [0.001, 0.01,0.1, 1.0]}\n",
    "param_grid = {'logisticregression__C':[.01,.05,.1,.5,1,5,10],\n",
    "              'logisticregression__penalty':['l1','l2']}\n",
    "\n",
    "search = GridSearchCV(estimator=model, cv=7, n_jobs=-1, param_grid=param_grid ,scoring='roc_auc')\n",
    "\n",
    "search.fit(X_train, y_train)"
   ]
  },
  {
   "cell_type": "code",
   "execution_count": 21,
   "metadata": {},
   "outputs": [
    {
     "name": "stdout",
     "output_type": "stream",
     "text": [
      "Best parameter (CV score=0.909):\n",
      "{'logisticregression__C': 0.5, 'logisticregression__penalty': 'l2'}\n"
     ]
    }
   ],
   "source": [
    "print(\"Best parameter (CV score=%0.3f):\" % search.best_score_)\n",
    "print(search.best_params_)"
   ]
  },
  {
   "cell_type": "code",
   "execution_count": 22,
   "metadata": {},
   "outputs": [],
   "source": [
    "# sorted(model.get_params().keys())\n",
    "# sorted(pipe.get_params().keys())"
   ]
  },
  {
   "cell_type": "markdown",
   "metadata": {},
   "source": [
    "**3. NUMPY**"
   ]
  },
  {
   "cell_type": "markdown",
   "metadata": {},
   "source": [
    "Refer [this URL](http://localhost:8888/notebooks/Python_work/Edureka/Webinar_Data%20Analysis%20with%20Python_NumPy.ipynb)"
   ]
  },
  {
   "cell_type": "markdown",
   "metadata": {},
   "source": [
    "**4. THEANO**\n",
    "\n",
    "- It is a Python library that allows us to evaluate mathematical operations including multi-dimensional arrays efficiently\n",
    "- It is mostly used in building Deep Learning Projects\n",
    "- It works a way more faster on Graphics Processing Unit (GPU) rather than on CPU\n",
    "- Theano attains high speeds that gives a tough competition to C implementations for problems involving large amounts of data - - It can take advantage of GPUs which makes it perform better than C on a CPU by considerable orders of magnitude under some certain circumstances\n",
    "- It knows how to take structures and convert them into very efficient code that uses numpy and some native libraries\n",
    "- It is mainly designed to handle the types of computation required for large neural network algorithms used in Deep Learning "
   ]
  },
  {
   "cell_type": "code",
   "execution_count": 12,
   "metadata": {},
   "outputs": [],
   "source": [
    "# !pip install theano   # for the first time only\n",
    "import theano\n",
    "import numpy\n",
    "import theano.tensor as T\n",
    "# T.__version__\n",
    "from theano import tensor\n",
    "from theano import function"
   ]
  },
  {
   "cell_type": "code",
   "execution_count": 10,
   "metadata": {},
   "outputs": [],
   "source": [
    "# Subtracting two scalars\n",
    "  \n",
    "# Declaring variables \n",
    "a = tensor.dscalar() \n",
    "b = tensor.dscalar() \n",
    "  \n",
    "# Subtracting  \n",
    "res = a - b\n",
    "\n",
    "# Converting it to a callable object so that it takes matrix as parameters \n",
    "func = theano.function([a, b], res) \n",
    "  \n",
    "# Calling function \n",
    "assert 20.0 == func(30.5, 10.5)"
   ]
  },
  {
   "cell_type": "code",
   "execution_count": 13,
   "metadata": {},
   "outputs": [
    {
     "data": {
      "text/plain": [
       "array(12.)"
      ]
     },
     "execution_count": 13,
     "metadata": {},
     "output_type": "execute_result"
    }
   ],
   "source": [
    "# Adding two scalars\n",
    "\n",
    "# Declaring two variables \n",
    "x = T.dscalar('x') \n",
    "y = T.dscalar('y') \n",
    "  \n",
    "# Summing up the two numbers \n",
    "z = x + y \n",
    "  \n",
    "# Converting it to a callable object so that it takes matrix as parameters \n",
    "f = function([x, y], z) \n",
    "f(5, 7)"
   ]
  },
  {
   "cell_type": "code",
   "execution_count": 14,
   "metadata": {},
   "outputs": [
    {
     "data": {
      "text/plain": [
       "array([[ 90., 120.],\n",
       "       [  5.,   7.]])"
      ]
     },
     "execution_count": 14,
     "metadata": {},
     "output_type": "execute_result"
    }
   ],
   "source": [
    "# Adding two matrices\n",
    "\n",
    "x = T.dmatrix('x') \n",
    "y = T.dmatrix('y') \n",
    "z = x + y \n",
    "f = function([x, y], z) \n",
    "  \n",
    "f([[30, 50], [2, 3]], [[60, 70], [3, 4]])"
   ]
  },
  {
   "cell_type": "code",
   "execution_count": 15,
   "metadata": {},
   "outputs": [
    {
     "name": "stdout",
     "output_type": "stream",
     "text": [
      "[[0.5        0.73105858]\n",
      " [0.26894142 0.11920292]]\n"
     ]
    }
   ],
   "source": [
    "# Logistic function\n",
    "\n",
    "# Declaring variable \n",
    "a = tensor.dmatrix('a') \n",
    "  \n",
    "# Sigmoid function \n",
    "sig = 1 / (1 + tensor.exp(-a)) \n",
    "  \n",
    "# Now it takes matrix as parameters \n",
    "log = theano.function([a], sig) \n",
    "  \n",
    "# Calling function \n",
    "print(log([[0, 1], [-1, -2]])) "
   ]
  },
  {
   "cell_type": "markdown",
   "metadata": {},
   "source": [
    "**5. KERAS**"
   ]
  },
  {
   "cell_type": "code",
   "execution_count": 36,
   "metadata": {},
   "outputs": [],
   "source": [
    "# Import libraries\n",
    "import pandas as pd\n",
    "import numpy as np\n",
    "\n",
    "import matplotlib.pyplot as plt\n",
    "%matplotlib inline\n",
    "import seaborn as sns\n",
    "\n",
    "from sklearn.model_selection import train_test_split\n",
    "\n",
    "from sklearn.preprocessing import StandardScaler\n",
    "\n",
    "from keras.models import Sequential\n",
    "from keras.layers import Dense\n"
   ]
  },
  {
   "cell_type": "code",
   "execution_count": 24,
   "metadata": {},
   "outputs": [],
   "source": [
    "# Read in white wine data \n",
    "white = pd.read_csv(\"http://archive.ics.uci.edu/ml/machine-learning-databases/wine-quality/winequality-white.csv\", sep=';')\n",
    "\n",
    "# Read in red wine data \n",
    "red = pd.read_csv(\"http://archive.ics.uci.edu/ml/machine-learning-databases/wine-quality/winequality-red.csv\", sep=';')"
   ]
  },
  {
   "cell_type": "code",
   "execution_count": 25,
   "metadata": {},
   "outputs": [
    {
     "data": {
      "image/png": "[encoded data removed]",
      "text/plain": [
       "<Figure size 432x288 with 2 Axes>"
      ]
     },
     "metadata": {
      "needs_background": "light"
     },
     "output_type": "display_data"
    }
   ],
   "source": [
    "# Plotting the data\n",
    "\n",
    "fig, ax = plt.subplots(1, 2)\n",
    "\n",
    "ax[0].hist(red.alcohol, 10, facecolor='red', alpha=0.5, label=\"Red wine\")\n",
    "ax[1].hist(white.alcohol, 10, facecolor='white', ec=\"black\", lw=0.5, alpha=0.5, label=\"White wine\")\n",
    "\n",
    "fig.subplots_adjust(left=0, right=1, bottom=0, top=0.5, hspace=0.05, wspace=1)\n",
    "ax[0].set_ylim([0, 1000])\n",
    "\n",
    "ax[0].set_xlabel(\"Alcohol in % Vol\"), ax[0].set_ylabel(\"Frequency\")\n",
    "ax[1].set_xlabel(\"Alcohol in % Vol\"), ax[1].set_ylabel(\"Frequency\")\n",
    "#ax[0].legend(loc='best'), ax[1].legend(loc='best')\n",
    "\n",
    "fig.suptitle(\"Distribution of Alcohol in % Vol\")\n",
    "plt.show();"
   ]
  },
  {
   "cell_type": "code",
   "execution_count": 26,
   "metadata": {},
   "outputs": [
    {
     "name": "stdout",
     "output_type": "stream",
     "text": [
      "(array([  0,   7, 673, 452, 305, 133,  21,   8], dtype=int64), array([ 7,  8,  9, 10, 11, 12, 13, 14, 15]))\n",
      "(array([   0,  317, 1606, 1256,  906,  675,  131,    7], dtype=int64), array([ 7,  8,  9, 10, 11, 12, 13, 14, 15]))\n"
     ]
    },
    {
     "data": {
      "image/png": "[encoded data removed]",
      "text/plain": [
       "<Figure size 576x288 with 2 Axes>"
      ]
     },
     "metadata": {
      "needs_background": "light"
     },
     "output_type": "display_data"
    }
   ],
   "source": [
    "print(np.histogram(red.alcohol, bins=[7,8,9,10,11,12,13,14,15]))\n",
    "print(np.histogram(white.alcohol, bins=[7,8,9,10,11,12,13,14,15]))\n",
    "\n",
    "fig, ax = plt.subplots(1, 2, figsize=(8, 4))\n",
    "\n",
    "ax[0].scatter(red['quality'], red[\"sulphates\"], color=\"red\")\n",
    "ax[1].scatter(white['quality'], white['sulphates'], color=\"white\", edgecolors=\"black\", lw=0.5)\n",
    "\n",
    "ax[0].set_title(\"Red Wine\"), ax[1].set_title(\"White Wine\")\n",
    "ax[0].set_xlabel(\"Quality\"), ax[1].set_xlabel(\"Quality\")\n",
    "ax[0].set_ylabel(\"Sulphates\"), ax[1].set_ylabel(\"Sulphates\")\n",
    "\n",
    "ax[0].set_xlim([0,10]), ax[1].set_xlim([0,10])\n",
    "ax[0].set_ylim([0,2.5]), ax[1].set_ylim([0,2.5])\n",
    "\n",
    "fig.subplots_adjust(wspace=0.5)\n",
    "fig.suptitle(\"Wine Quality by Amount of Sulphates\")\n",
    "plt.show();"
   ]
  },
  {
   "cell_type": "code",
   "execution_count": 30,
   "metadata": {},
   "outputs": [
    {
     "data": {
      "text/plain": [
       "(6497, 13)"
      ]
     },
     "execution_count": 30,
     "metadata": {},
     "output_type": "execute_result"
    },
    {
     "data": {
      "text/plain": [
       "Index(['fixed acidity', 'volatile acidity', 'citric acid', 'residual sugar',\n",
       "       'chlorides', 'free sulfur dioxide', 'total sulfur dioxide', 'density',\n",
       "       'pH', 'sulphates', 'alcohol', 'quality', 'type'],\n",
       "      dtype='object')"
      ]
     },
     "execution_count": 30,
     "metadata": {},
     "output_type": "execute_result"
    }
   ],
   "source": [
    "# Add `type` column to `red` with value 1\n",
    "red['type'] = 1\n",
    "\n",
    "# Add `type` column to `white` with value 0\n",
    "white['type'] = 0\n",
    "\n",
    "# Append `white` to `red`\n",
    "wines = red.append(white, ignore_index=True)\n",
    "\n",
    "# Checking the wine data\n",
    "wines.shape\n",
    "wines.columns"
   ]
  },
  {
   "cell_type": "code",
   "execution_count": 32,
   "metadata": {},
   "outputs": [
    {
     "data": {
      "image/png": "[encoded data removed]",
      "text/plain": [
       "<Figure size 432x288 with 2 Axes>"
      ]
     },
     "metadata": {
      "needs_background": "light"
     },
     "output_type": "display_data"
    }
   ],
   "source": [
    "# Building the correlation plot\n",
    "corr = wines.corr()\n",
    "sns.heatmap(corr, xticklabels=corr.columns.values, yticklabels=corr.columns.values);"
   ]
  },
  {
   "cell_type": "code",
   "execution_count": 33,
   "metadata": {},
   "outputs": [],
   "source": [
    "# Split the data into train and test for bilding the model\n",
    "\n",
    "# Specify the data \n",
    "X=wines.iloc[:,0:11]\n",
    "\n",
    "# Specify the target labels and flatten the array \n",
    "y=np.ravel(wines.type)\n",
    "\n",
    "# Split the data up in train and test sets\n",
    "X_train, X_test, y_train, y_test = train_test_split(X, y, test_size=0.33, random_state=42)"
   ]
  },
  {
   "cell_type": "code",
   "execution_count": 35,
   "metadata": {},
   "outputs": [],
   "source": [
    "# Scaling the train data before building the model\n",
    "\n",
    "# Define the scaler \n",
    "scaler = StandardScaler().fit(X_train)\n",
    "\n",
    "# Scale the train set\n",
    "X_train = scaler.transform(X_train)\n",
    "\n",
    "# Scale the test set\n",
    "X_test = scaler.transform(X_test)"
   ]
  },
  {
   "cell_type": "code",
   "execution_count": 37,
   "metadata": {},
   "outputs": [
    {
     "data": {
      "text/plain": [
       "(None, 1)"
      ]
     },
     "execution_count": 37,
     "metadata": {},
     "output_type": "execute_result"
    }
   ],
   "source": [
    "# Initialize the constructor\n",
    "model = Sequential()\n",
    "\n",
    "# Add an input layer \n",
    "model.add(Dense(12, activation='relu', input_shape=(11,)))\n",
    "\n",
    "# Add one hidden layer \n",
    "model.add(Dense(8, activation='relu'))\n",
    "\n",
    "# Add an output layer \n",
    "model.add(Dense(1, activation='sigmoid'))\n",
    "\n",
    "# Model output shape\n",
    "model.output_shape"
   ]
  },
  {
   "cell_type": "code",
   "execution_count": 38,
   "metadata": {},
   "outputs": [
    {
     "name": "stdout",
     "output_type": "stream",
     "text": [
      "Model: \"sequential\"\n",
      "_________________________________________________________________\n",
      "Layer (type)                 Output Shape              Param #   \n",
      "=================================================================\n",
      "dense (Dense)                (None, 12)                144       \n",
      "_________________________________________________________________\n",
      "dense_1 (Dense)              (None, 8)                 104       \n",
      "_________________________________________________________________\n",
      "dense_2 (Dense)              (None, 1)                 9         \n",
      "=================================================================\n",
      "Total params: 257\n",
      "Trainable params: 257\n",
      "Non-trainable params: 0\n",
      "_________________________________________________________________\n"
     ]
    }
   ],
   "source": [
    "# Model summary\n",
    "model.summary()"
   ]
  },
  {
   "cell_type": "code",
   "execution_count": 39,
   "metadata": {},
   "outputs": [
    {
     "data": {
      "text/plain": [
       "{'name': 'sequential',\n",
       " 'layers': [{'class_name': 'InputLayer',\n",
       "   'config': {'batch_input_shape': (None, 11),\n",
       "    'dtype': 'float32',\n",
       "    'sparse': False,\n",
       "    'ragged': False,\n",
       "    'name': 'dense_input'}},\n",
       "  {'class_name': 'Dense',\n",
       "   'config': {'name': 'dense',\n",
       "    'trainable': True,\n",
       "    'batch_input_shape': (None, 11),\n",
       "    'dtype': 'float32',\n",
       "    'units': 12,\n",
       "    'activation': 'relu',\n",
       "    'use_bias': True,\n",
       "    'kernel_initializer': {'class_name': 'GlorotUniform',\n",
       "     'config': {'seed': None}},\n",
       "    'bias_initializer': {'class_name': 'Zeros', 'config': {}},\n",
       "    'kernel_regularizer': None,\n",
       "    'bias_regularizer': None,\n",
       "    'activity_regularizer': None,\n",
       "    'kernel_constraint': None,\n",
       "    'bias_constraint': None}},\n",
       "  {'class_name': 'Dense',\n",
       "   'config': {'name': 'dense_1',\n",
       "    'trainable': True,\n",
       "    'dtype': 'float32',\n",
       "    'units': 8,\n",
       "    'activation': 'relu',\n",
       "    'use_bias': True,\n",
       "    'kernel_initializer': {'class_name': 'GlorotUniform',\n",
       "     'config': {'seed': None}},\n",
       "    'bias_initializer': {'class_name': 'Zeros', 'config': {}},\n",
       "    'kernel_regularizer': None,\n",
       "    'bias_regularizer': None,\n",
       "    'activity_regularizer': None,\n",
       "    'kernel_constraint': None,\n",
       "    'bias_constraint': None}},\n",
       "  {'class_name': 'Dense',\n",
       "   'config': {'name': 'dense_2',\n",
       "    'trainable': True,\n",
       "    'dtype': 'float32',\n",
       "    'units': 1,\n",
       "    'activation': 'sigmoid',\n",
       "    'use_bias': True,\n",
       "    'kernel_initializer': {'class_name': 'GlorotUniform',\n",
       "     'config': {'seed': None}},\n",
       "    'bias_initializer': {'class_name': 'Zeros', 'config': {}},\n",
       "    'kernel_regularizer': None,\n",
       "    'bias_regularizer': None,\n",
       "    'activity_regularizer': None,\n",
       "    'kernel_constraint': None,\n",
       "    'bias_constraint': None}}]}"
      ]
     },
     "execution_count": 39,
     "metadata": {},
     "output_type": "execute_result"
    }
   ],
   "source": [
    "# Model config\n",
    "model.get_config()"
   ]
  },
  {
   "cell_type": "code",
   "execution_count": 40,
   "metadata": {},
   "outputs": [
    {
     "data": {
      "text/plain": [
       "[array([[ 0.29016548, -0.06281367,  0.2650705 , -0.2923745 , -0.45035696,\n",
       "         -0.2864384 ,  0.11512917, -0.30374503, -0.19064304, -0.12088829,\n",
       "         -0.13426557, -0.31410855],\n",
       "        [ 0.3614815 ,  0.49321753, -0.19466534, -0.30637646,  0.26940888,\n",
       "          0.29136312,  0.28913504, -0.08297482, -0.20300168, -0.0232397 ,\n",
       "         -0.40711397, -0.08965847],\n",
       "        [ 0.26455063, -0.06002203,  0.01317978,  0.28367168,  0.48099196,\n",
       "          0.15836191, -0.30199772,  0.3124137 , -0.28945228, -0.05696699,\n",
       "          0.30922097, -0.09879243],\n",
       "        [-0.09902465,  0.02367467,  0.34282184,  0.35645324, -0.13367596,\n",
       "         -0.14044008,  0.04219842, -0.3599372 , -0.21708402, -0.20135933,\n",
       "         -0.03553173,  0.3748371 ],\n",
       "        [ 0.06599534,  0.08808744,  0.37462848,  0.33912957, -0.10308117,\n",
       "         -0.28603506, -0.31528172,  0.35491097,  0.48667037, -0.33576214,\n",
       "         -0.31792372,  0.17254281],\n",
       "        [ 0.16791362, -0.4989882 ,  0.50980705,  0.3572997 , -0.23957554,\n",
       "          0.30272472,  0.04874438, -0.23766163,  0.507587  ,  0.0186038 ,\n",
       "          0.07262796,  0.07255262],\n",
       "        [-0.5105501 , -0.1272709 , -0.02901211,  0.14620751,  0.24868464,\n",
       "         -0.33937284, -0.01112702,  0.4021232 ,  0.14426011, -0.47635835,\n",
       "         -0.43063164,  0.31139314],\n",
       "        [-0.01007468, -0.18347096,  0.4500631 ,  0.3198681 ,  0.16221666,\n",
       "          0.33160788,  0.24800849,  0.0250982 , -0.18376249, -0.334368  ,\n",
       "         -0.33671916, -0.37223858],\n",
       "        [ 0.08589065,  0.15678608,  0.4496647 , -0.4745047 ,  0.12346041,\n",
       "          0.22034168,  0.3363279 , -0.09182236, -0.02799663, -0.16803452,\n",
       "          0.3273778 ,  0.02988803],\n",
       "        [ 0.41630954, -0.29466188, -0.09842211, -0.17649472,  0.38852686,\n",
       "         -0.14987215,  0.292628  , -0.22627583, -0.04805914,  0.39981425,\n",
       "          0.4766953 ,  0.25025946],\n",
       "        [ 0.48095053, -0.2884255 ,  0.05230075, -0.23533517, -0.28219193,\n",
       "          0.04218405,  0.26474363, -0.43796092,  0.39744723,  0.30361205,\n",
       "         -0.40457183,  0.14402485]], dtype=float32),\n",
       " array([0., 0., 0., 0., 0., 0., 0., 0., 0., 0., 0., 0.], dtype=float32),\n",
       " array([[-0.45396212, -0.34410664, -0.41185465,  0.1676048 , -0.17227173,\n",
       "          0.1340695 , -0.03331774,  0.1683054 ],\n",
       "        [-0.37895566,  0.5431415 , -0.40597862,  0.48752773, -0.32384408,\n",
       "         -0.2402015 , -0.47027978,  0.17536062],\n",
       "        [-0.24439168,  0.15327549, -0.50810844, -0.02305311, -0.29917824,\n",
       "         -0.42747405,  0.18144768, -0.3521324 ],\n",
       "        [-0.07662991, -0.5079012 ,  0.4458593 , -0.536043  , -0.03056198,\n",
       "          0.01452261,  0.10625166, -0.02086574],\n",
       "        [-0.19199353, -0.49782598, -0.13147196,  0.38564473, -0.2453857 ,\n",
       "         -0.46867   ,  0.01325107,  0.44401842],\n",
       "        [-0.35178766, -0.06464171, -0.04759645,  0.41263843, -0.29023394,\n",
       "         -0.06784543, -0.00556195,  0.07013619],\n",
       "        [-0.17798415,  0.09593683, -0.00166577,  0.23663008,  0.08348417,\n",
       "         -0.06002966, -0.42759877,  0.14904326],\n",
       "        [-0.52462506, -0.31611827, -0.52596164, -0.5247801 , -0.04550964,\n",
       "         -0.04005712, -0.16651478, -0.4181316 ],\n",
       "        [ 0.18549174, -0.38446647, -0.12511536, -0.4263877 , -0.24323401,\n",
       "         -0.22058824,  0.37628502,  0.37398422],\n",
       "        [-0.3659078 , -0.08495393,  0.04487163, -0.0766679 ,  0.27149647,\n",
       "         -0.29151395, -0.09002659,  0.05471516],\n",
       "        [-0.4773546 ,  0.17085367, -0.3736012 , -0.4926375 , -0.24911383,\n",
       "          0.26904744,  0.21991688,  0.07977498],\n",
       "        [-0.02414966, -0.40794826, -0.03702605, -0.5272017 ,  0.20651251,\n",
       "          0.314017  , -0.03400022,  0.01664388]], dtype=float32),\n",
       " array([0., 0., 0., 0., 0., 0., 0., 0.], dtype=float32),\n",
       " array([[ 0.32766867],\n",
       "        [-0.01273811],\n",
       "        [-0.44146138],\n",
       "        [-0.605744  ],\n",
       "        [-0.04263812],\n",
       "        [-0.13602054],\n",
       "        [-0.25489724],\n",
       "        [ 0.19861293]], dtype=float32),\n",
       " array([0.], dtype=float32)]"
      ]
     },
     "execution_count": 40,
     "metadata": {},
     "output_type": "execute_result"
    },
    {
     "name": "stdout",
     "output_type": "stream",
     "text": [
      "Epoch 1/20\n",
      "4352/4352 [==============================] - 9s 2ms/step - loss: 0.1006 - accuracy: 0.9665\n",
      "Epoch 2/20\n",
      "4352/4352 [==============================] - 9s 2ms/step - loss: 0.0273 - accuracy: 0.9945\n",
      "Epoch 3/20\n",
      "4352/4352 [==============================] - 9s 2ms/step - loss: 0.0217 - accuracy: 0.9954\n",
      "Epoch 4/20\n",
      "4352/4352 [==============================] - 9s 2ms/step - loss: 0.0194 - accuracy: 0.9961\n",
      "Epoch 5/20\n",
      "4352/4352 [==============================] - 9s 2ms/step - loss: 0.0178 - accuracy: 0.9966\n",
      "Epoch 6/20\n",
      "4352/4352 [==============================] - 9s 2ms/step - loss: 0.0163 - accuracy: 0.9963\n",
      "Epoch 7/20\n",
      "4352/4352 [==============================] - 9s 2ms/step - loss: 0.0163 - accuracy: 0.9968\n",
      "Epoch 8/20\n",
      "4352/4352 [==============================] - 9s 2ms/step - loss: 0.0142 - accuracy: 0.9972\n",
      "Epoch 9/20\n",
      "4352/4352 [==============================] - 9s 2ms/step - loss: 0.0127 - accuracy: 0.9975\n",
      "Epoch 10/20\n",
      "4352/4352 [==============================] - 9s 2ms/step - loss: 0.0142 - accuracy: 0.9970\n",
      "Epoch 11/20\n",
      "4352/4352 [==============================] - 9s 2ms/step - loss: 0.0130 - accuracy: 0.9972\n",
      "Epoch 12/20\n",
      "4352/4352 [==============================] - 9s 2ms/step - loss: 0.0111 - accuracy: 0.9977\n",
      "Epoch 13/20\n",
      "4352/4352 [==============================] - 9s 2ms/step - loss: 0.0115 - accuracy: 0.9972\n",
      "Epoch 14/20\n",
      "4352/4352 [==============================] - 9s 2ms/step - loss: 0.0112 - accuracy: 0.9972\n",
      "Epoch 15/20\n",
      "4352/4352 [==============================] - 9s 2ms/step - loss: 0.0108 - accuracy: 0.9977\n",
      "Epoch 16/20\n",
      "4352/4352 [==============================] - 9s 2ms/step - loss: 0.0104 - accuracy: 0.9979\n",
      "Epoch 17/20\n",
      "4352/4352 [==============================] - 10s 2ms/step - loss: 0.0090 - accuracy: 0.9982\n",
      "Epoch 18/20\n",
      "4352/4352 [==============================] - 10s 2ms/step - loss: 0.0100 - accuracy: 0.9979\n",
      "Epoch 19/20\n",
      "4352/4352 [==============================] - 10s 2ms/step - loss: 0.0095 - accuracy: 0.9979\n",
      "Epoch 20/20\n",
      "4352/4352 [==============================] - 10s 2ms/step - loss: 0.0084 - accuracy: 0.9982\n"
     ]
    },
    {
     "data": {
      "text/plain": [
       "<tensorflow.python.keras.callbacks.History at 0x20ae93397c0>"
      ]
     },
     "execution_count": 40,
     "metadata": {},
     "output_type": "execute_result"
    }
   ],
   "source": [
    "# List all weight tensors \n",
    "model.get_weights()\n",
    "\n",
    "# Compile the model\n",
    "model.compile(loss='binary_crossentropy', optimizer='adam', metrics=['accuracy'])\n",
    "  \n",
    "# Fit the model on the training data\n",
    "model.fit(X_train, y_train,epochs=20, batch_size=1, verbose=1)\n",
    "\n",
    "# Making predictions on the test data\n",
    "y_pred = model.predict(X_test)"
   ]
  },
  {
   "cell_type": "code",
   "execution_count": 41,
   "metadata": {},
   "outputs": [
    {
     "data": {
      "text/plain": [
       "array([0, 1, 0, 0, 0], dtype=int64)"
      ]
     },
     "execution_count": 41,
     "metadata": {},
     "output_type": "execute_result"
    },
    {
     "name": "stdout",
     "output_type": "stream",
     "text": [
      "68/68 [==============================] - 0s 2ms/step - loss: 0.0297 - accuracy: 0.9944\n",
      "[0.029724877327680588, 0.9944055676460266]\n"
     ]
    }
   ],
   "source": [
    "# Checking the prediction made by the model\n",
    "y_test[:5]\n",
    "\n",
    "# Scoring the prediction by conparing with the y_test data\n",
    "score = model.evaluate(X_test, y_test,verbose=1)\n",
    "print(score)"
   ]
  },
  {
   "cell_type": "markdown",
   "metadata": {},
   "source": [
    "**6. NLTK**\n",
    "\n",
    "[Article1](https://likegeeks.com/nlp-tutorial-using-python-nltk/)"
   ]
  },
  {
   "cell_type": "code",
   "execution_count": 71,
   "metadata": {},
   "outputs": [
    {
     "name": "stdout",
     "output_type": "stream",
     "text": [
      "The vesion of tensorflow is 3.5\n"
     ]
    },
    {
     "name": "stderr",
     "output_type": "stream",
     "text": [
      "[nltk_data] Downloading package punkt to\n",
      "[nltk_data]     C:\\Users\\Administrator\\AppData\\Roaming\\nltk_data...\n",
      "[nltk_data]   Package punkt is already up-to-date!\n"
     ]
    },
    {
     "data": {
      "text/plain": [
       "True"
      ]
     },
     "execution_count": 71,
     "metadata": {},
     "output_type": "execute_result"
    }
   ],
   "source": [
    "# !pip install nltk    # for the first time only\n",
    "import nltk\n",
    "print(\"The vesion of tensorflow is\", nltk.__version__)\n",
    "\n",
    "from nltk.tag import pos_tag_sents\n",
    "from nltk.corpus import stopwords\n",
    "\n",
    "nltk.download('punkt')\n",
    "from nltk.tokenize import sent_tokenize\n",
    "from nltk.tokenize import word_tokenize\n",
    "\n",
    "from nltk.corpus import wordnet\n",
    "\n",
    "import urllib.request"
   ]
  },
  {
   "cell_type": "markdown",
   "metadata": {},
   "source": [
    "**Tokenize text in Python**"
   ]
  },
  {
   "cell_type": "code",
   "execution_count": 59,
   "metadata": {},
   "outputs": [
    {
     "name": "stdout",
     "output_type": "stream",
     "text": [
      "b'<!DOCTYPE html>\\n<html xmlns=\"http://www.w3.org/1999/xhtml\" lang=\"en\">\\n<head>\\n\\n  <meta charset=\"utf-8\">\\n  <meta name=\"viewport\" content=\"width=device-width, initial-scale=1.0\">\\n\\n  <title>PHP: Hypertext Preprocessor</title>\\n\\n <link rel=\"shortcut icon\" href=\"https://www.php.net/favicon.ico\">\\n <link rel=\"search\" type=\"application/opensearchdescription+xml\" href=\"http://php.net/phpnetimprovedsearch.src\" title=\"Add PHP.net search\">\\n <link rel=\"alternate\" type=\"application/atom+xml\" href=\"https://www.php.net/releases/feed.php\" title=\"PHP Release feed\">\\n <link rel=\"alternate\" type=\"application/atom+xml\" href=\"https://www.php.net/feed.atom\" title=\"PHP: Hypertext Preprocessor\">\\n\\n <link rel=\"canonical\" href=\"https://www.php.net/index.php\">\\n <link rel=\"shorturl\" href=\"https://www.php.net/index\">\\n <link rel=\"alternate\" href=\"https://www.php.net/index\" hreflang=\"x-default\">\\n\\n\\n\\n<link rel=\"stylesheet\" type=\"text/css\" href=\"/cached.php?t=1539771603&amp;f=/fonts/Fira/fira.css\" media=\"screen\">\\n<link rel=\"stylesheet\" type=\"text/css\" href=\"/cached.php?t=1539765004&amp;f=/fonts/Font-Awesome/css/fontello.css\" media=\"screen\">\\n<link rel=\"stylesheet\" type=\"text/css\" href=\"/cached.php?t=1598370002&amp;f=/styles/theme-base.css\" media=\"screen\">\\n<link rel=\"stylesheet\" type=\"text/css\" href=\"/cached.php?t=1540425603&amp;f=/styles/theme-medium.css\" media=\"screen\">\\n<link rel=\"stylesheet\" type=\"text/css\" href=\"/cached.php?t=1429259403&amp;f=/styles/home.css\" media=\"screen\">\\n\\n <!--[if lte IE 7]>\\n <link rel=\"stylesheet\" type=\"text/css\" href=\"https://www.php.net/styles/workarounds.ie7.css\" media=\"screen\">\\n <![endif]-->\\n\\n <!--[if lte IE 8]>\\n <script>\\n  window.brokenIE = true;\\n </script>\\n <![endif]-->\\n\\n <!--[if lte IE 9]>\\n <link rel=\"stylesheet\" type=\"text/css\" href=\"https://www.php.net/styles/workarounds.ie9.css\" media=\"screen\">\\n <![endif]-->\\n\\n <!--[if IE]>\\n <script src=\"https://www.php.net/js/ext/html5.js\"></script>\\n <![endif]-->\\n\\n <base href=\"https://www.php.net/index.php\">\\n\\n</head>\\n<body class=\"home \">\\n\\n<nav id=\"head-nav\" class=\"navbar navbar-fixed-top\">\\n  <div class=\"navbar-inner clearfix\">\\n    <a href=\"/\" class=\"brand\"><img src=\"/images/logos/php-logo.svg\" width=\"48\" height=\"24\" alt=\"php\"></a>\\n    <div id=\"mainmenu-toggle-overlay\"></div>\\n    <input type=\"checkbox\" id=\"mainmenu-toggle\">\\n    <ul class=\"nav\">\\n      <li class=\"\"><a href=\"/downloads\">Downloads</a></li>\\n      <li class=\"\"><a href=\"/docs.php\">Documentation</a></li>\\n      <li class=\"\"><a href=\"/get-involved\" >Get Involved</a></li>\\n      <li class=\"\"><a href=\"/support\">Help</a></li>\\n    </ul>\\n    <form class=\"navbar-search\" id=\"topsearch\" action=\"/search.php\">\\n      <input type=\"hidden\" name=\"show\" value=\"quickref\">\\n      <input type=\"search\" name=\"pattern\" class=\"search-query\" placeholder=\"Search\" accesskey=\"s\">\\n    </form>\\n  </div>\\n  <div id=\"flash-message\"></div>\\n</nav>\\n<nav id=\"trick\"><div><dl>\\n<dt><a href=\\'/manual/en/getting-started.php\\'>Getting Started</a></dt>\\n\\t<dd><a href=\\'/manual/en/introduction.php\\'>Introduction</a></dd>\\n\\t<dd><a href=\\'/manual/en/tutorial.php\\'>A simple tutorial</a></dd>\\n<dt><a href=\\'/manual/en/langref.php\\'>Language Reference</a></dt>\\n\\t<dd><a href=\\'/manual/en/language.basic-syntax.php\\'>Basic syntax</a></dd>\\n\\t<dd><a href=\\'/manual/en/language.types.php\\'>Types</a></dd>\\n\\t<dd><a href=\\'/manual/en/language.variables.php\\'>Variables</a></dd>\\n\\t<dd><a href=\\'/manual/en/language.constants.php\\'>Constants</a></dd>\\n\\t<dd><a href=\\'/manual/en/language.expressions.php\\'>Expressions</a></dd>\\n\\t<dd><a href=\\'/manual/en/language.operators.php\\'>Operators</a></dd>\\n\\t<dd><a href=\\'/manual/en/language.control-structures.php\\'>Control Structures</a></dd>\\n\\t<dd><a href=\\'/manual/en/language.functions.php\\'>Functions</a></dd>\\n\\t<dd><a href=\\'/manual/en/language.oop5.php\\'>Classes and Objects</a></dd>\\n\\t<dd><a href=\\'/manual/en/language.namespaces.php\\'>Namespaces</a></dd>\\n\\t<dd><a href=\\'/manual/en/language.errors.php\\'>Errors</a></dd>\\n\\t<dd><a href=\\'/manual/en/language.exceptions.php\\'>Exceptions</a></dd>\\n\\t<dd><a href=\\'/manual/en/language.generators.php\\'>Generators</a></dd>\\n\\t<dd><a href=\\'/manual/en/language.references.php\\'>References Explained</a></dd>\\n\\t<dd><a href=\\'/manual/en/reserved.variables.php\\'>Predefined Variables</a></dd>\\n\\t<dd><a href=\\'/manual/en/reserved.exceptions.php\\'>Predefined Exceptions</a></dd>\\n\\t<dd><a href=\\'/manual/en/reserved.interfaces.php\\'>Predefined Interfaces and Classes</a></dd>\\n\\t<dd><a href=\\'/manual/en/context.php\\'>Context options and parameters</a></dd>\\n\\t<dd><a href=\\'/manual/en/wrappers.php\\'>Supported Protocols and Wrappers</a></dd>\\n</dl>\\n<dl>\\n<dt><a href=\\'/manual/en/security.php\\'>Security</a></dt>\\n\\t<dd><a href=\\'/manual/en/security.intro.php\\'>Introduction</a></dd>\\n\\t<dd><a href=\\'/manual/en/security.general.php\\'>General considerations</a></dd>\\n\\t<dd><a href=\\'/manual/en/security.cgi-bin.php\\'>Installed as CGI binary</a></dd>\\n\\t<dd><a href=\\'/manual/en/security.apache.php\\'>Installed as an Apache module</a></dd>\\n\\t<dd><a href=\\'/manual/en/security.sessions.php\\'>Session Security</a></dd>\\n\\t<dd><a href=\\'/manual/en/security.filesystem.php\\'>Filesystem Security</a></dd>\\n\\t<dd><a href=\\'/manual/en/security.database.php\\'>Database Security</a></dd>\\n\\t<dd><a href=\\'/manual/en/security.errors.php\\'>Error Reporting</a></dd>\\n\\t<dd><a href=\\'/manual/en/security.globals.php\\'>Using Register Globals</a></dd>\\n\\t<dd><a href=\\'/manual/en/security.variables.php\\'>User Submitted Data</a></dd>\\n\\t<dd><a href=\\'/manual/en/security.magicquotes.php\\'>Magic Quotes</a></dd>\\n\\t<dd><a href=\\'/manual/en/security.hiding.php\\'>Hiding PHP</a></dd>\\n\\t<dd><a href=\\'/manual/en/security.current.php\\'>Keeping Current</a></dd>\\n<dt><a href=\\'/manual/en/features.php\\'>Features</a></dt>\\n\\t<dd><a href=\\'/manual/en/features.http-auth.php\\'>HTTP authentication with PHP</a></dd>\\n\\t<dd><a href=\\'/manual/en/features.cookies.php\\'>Cookies</a></dd>\\n\\t<dd><a href=\\'/manual/en/features.sessions.php\\'>Sessions</a></dd>\\n\\t<dd><a href=\\'/manual/en/features.xforms.php\\'>Dealing with XForms</a></dd>\\n\\t<dd><a href=\\'/manual/en/features.file-upload.php\\'>Handling file uploads</a></dd>\\n\\t<dd><a href=\\'/manual/en/features.remote-files.php\\'>Using remote files</a></dd>\\n\\t<dd><a href=\\'/manual/en/features.connection-handling.php\\'>Connection handling</a></dd>\\n\\t<dd><a href=\\'/manual/en/features.persistent-connections.php\\'>Persistent Database Connections</a></dd>\\n\\t<dd><a href=\\'/manual/en/features.safe-mode.php\\'>Safe Mode</a></dd>\\n\\t<dd><a href=\\'/manual/en/features.commandline.php\\'>Command line usage</a></dd>\\n\\t<dd><a href=\\'/manual/en/features.gc.php\\'>Garbage Collection</a></dd>\\n\\t<dd><a href=\\'/manual/en/features.dtrace.php\\'>DTrace Dynamic Tracing</a></dd>\\n</dl>\\n<dl>\\n<dt><a href=\\'/manual/en/funcref.php\\'>Function Reference</a></dt>\\n\\t<dd><a href=\\'/manual/en/refs.basic.php.php\\'>Affecting PHP\\'s Behaviour</a></dd>\\n\\t<dd><a href=\\'/manual/en/refs.utilspec.audio.php\\'>Audio Formats Manipulation</a></dd>\\n\\t<dd><a href=\\'/manual/en/refs.remote.auth.php\\'>Authentication Services</a></dd>\\n\\t<dd><a href=\\'/manual/en/refs.utilspec.cmdline.php\\'>Command Line Specific Extensions</a></dd>\\n\\t<dd><a href=\\'/manual/en/refs.compression.php\\'>Compression and Archive Extensions</a></dd>\\n\\t<dd><a href=\\'/manual/en/refs.creditcard.php\\'>Credit Card Processing</a></dd>\\n\\t<dd><a href=\\'/manual/en/refs.crypto.php\\'>Cryptography Extensions</a></dd>\\n\\t<dd><a href=\\'/manual/en/refs.database.php\\'>Database Extensions</a></dd>\\n\\t<dd><a href=\\'/manual/en/refs.calendar.php\\'>Date and Time Related Extensions</a></dd>\\n\\t<dd><a href=\\'/manual/en/refs.fileprocess.file.php\\'>File System Related Extensions</a></dd>\\n\\t<dd><a href=\\'/manual/en/refs.international.php\\'>Human Language and Character Encoding Support</a></dd>\\n\\t<dd><a href=\\'/manual/en/refs.utilspec.image.php\\'>Image Processing and Generation</a></dd>\\n\\t<dd><a href=\\'/manual/en/refs.remote.mail.php\\'>Mail Related Extensions</a></dd>\\n\\t<dd><a href=\\'/manual/en/refs.math.php\\'>Mathematical Extensions</a></dd>\\n\\t<dd><a href=\\'/manual/en/refs.utilspec.nontext.php\\'>Non-Text MIME Output</a></dd>\\n\\t<dd><a href=\\'/manual/en/refs.fileprocess.process.php\\'>Process Control Extensions</a></dd>\\n\\t<dd><a href=\\'/manual/en/refs.basic.other.php\\'>Other Basic Extensions</a></dd>\\n\\t<dd><a href=\\'/manual/en/refs.remote.other.php\\'>Other Services</a></dd>\\n\\t<dd><a href=\\'/manual/en/refs.search.php\\'>Search Engine Extensions</a></dd>\\n\\t<dd><a href=\\'/manual/en/refs.utilspec.server.php\\'>Server Specific Extensions</a></dd>\\n\\t<dd><a href=\\'/manual/en/refs.basic.session.php\\'>Session Extensions</a></dd>\\n\\t<dd><a href=\\'/manual/en/refs.basic.text.php\\'>Text Processing</a></dd>\\n\\t<dd><a href=\\'/manual/en/refs.basic.vartype.php\\'>Variable and Type Related Extensions</a></dd>\\n\\t<dd><a href=\\'/manual/en/refs.webservice.php\\'>Web Services</a></dd>\\n\\t<dd><a href=\\'/manual/en/refs.utilspec.windows.php\\'>Windows Only Extensions</a></dd>\\n\\t<dd><a href=\\'/manual/en/refs.xml.php\\'>XML Manipulation</a></dd>\\n\\t<dd><a href=\\'/manual/en/refs.ui.php\\'>GUI Extensions</a></dd>\\n</dl>\\n<dl>\\n<dt>Keyboard Shortcuts</dt><dt>?</dt>\\n<dd>This help</dd>\\n<dt>j</dt>\\n<dd>Next menu item</dd>\\n<dt>k</dt>\\n<dd>Previous menu item</dd>\\n<dt>g p</dt>\\n<dd>Previous man page</dd>\\n<dt>g n</dt>\\n<dd>Next man page</dd>\\n<dt>G</dt>\\n<dd>Scroll to bottom</dd>\\n<dt>g g</dt>\\n<dd>Scroll to top</dd>\\n<dt>g h</dt>\\n<dd>Goto homepage</dd>\\n<dt>g s</dt>\\n<dd>Goto search<br>(current page)</dd>\\n<dt>/</dt>\\n<dd>Focus search box</dd>\\n</dl></div></nav>\\n<div id=\"goto\">\\n    <div class=\"search\">\\n         <div class=\"text\"></div>\\n         <div class=\"results\"><ul></ul></div>\\n   </div>\\n</div>\\n\\n\\n\\n<div id=\"intro\" class=\"clearfix\">\\n  <div class=\"container\">\\n      <div class=\"row clearfix\">\\n    <div class=\"blurb\">\\n      <p>PHP is a popular general-purpose scripting language that is especially suited to web development.</p>\\n      <p>Fast, flexible and pragmatic, PHP powers everything from your blog to the most popular websites in the world.</p>\\n    </div>\\n    <div class=\"download\">\\n      <h3>Download</h3><ul>\\n\\n            <li><a class=\\'download-link\\' href=\\'/downloads.php#v7.4.10\\'>7.4.10</a><span class=\\'dot\\'>&middot;</span><a class=\\'notes\\' href=\\'/ChangeLog-7.php#7.4.10\\'>Release Notes</a><span class=\\'dot\\'>&middot;</span><a class=\\'notes\\' href=\\'/migration74\\'>Upgrading</a></li>\\n\\n            <li><a class=\\'download-link\\' href=\\'/downloads.php#v7.3.22\\'>7.3.22</a><span class=\\'dot\\'>&middot;</span><a class=\\'notes\\' href=\\'/ChangeLog-7.php#7.3.22\\'>Release Notes</a><span class=\\'dot\\'>&middot;</span><a class=\\'notes\\' href=\\'/migration73\\'>Upgrading</a></li>\\n\\n            <li><a class=\\'download-link\\' href=\\'/downloads.php#v7.2.33\\'>7.2.33</a><span class=\\'dot\\'>&middot;</span><a class=\\'notes\\' href=\\'/ChangeLog-7.php#7.2.33\\'>Release Notes</a><span class=\\'dot\\'>&middot;</span><a class=\\'notes\\' href=\\'/migration72\\'>Upgrading</a></li>\\n</ul>\\n    </div>\\n  </div>  </div>\\n</div>\\n\\n\\n<div id=\"layout\" class=\"clearfix\">\\n  <section id=\"layout-content\">\\n<div class=\\'home-content\\'><article class=\"newsentry\">\\n  <header class=\"title\">\\n    <time datetime=\"2020-09-17T14:25:00+00:00\">17 Sep 2020</time>\\n    <h2 class=\"newstitle\">\\n      <a href=\"https://www.php.net/archive/2020.php#2020-09-17-1\" id=\"2020-09-17-1\">PHP 8.0.0 Beta 4 available for testing</a>\\n    </h2>\\n  </header>\\n  <div class=\"newscontent\">\\n    <div>\\n      <p>\\n        The PHP team is pleased to announce the seventh testing release of PHP 8.0.0, Beta 4.\\n        This point in the release cycle would normally be RC1, however we\\'re still finalizing\\n        development of the JIT and squaring away named arguments, so we\\'ve opted for an extra\\n        beta release with plans to start the RC cycle in two weeks.\\n      </p>\\n\\n      <p>\\n        At this time, we\\'re not planning to adjust the GA date,\\n        however this may change during the course of the RC cycle.\\n        The updated release schedule can, as always, be found on the\\n        <a href=\"https://wiki.php.net/todo/php80\">PHP Wiki</a>.\\n      </p>\\n\\n      <p>For source downloads of PHP 8.0.0 Beta 4 please visit the <a href=\"https://downloads.php.net/~pollita\">download page</a>.</p>\\n\\n      <p>Please carefully test this version and report any issues found in the <a href=\"http://bugs.php.net\">bug reporting system</a>.</p>\\n\\n      <p><b>Please DO NOT use this version in production, it is an early test version.</b></p>\\n\\n      <p>\\n        For more information on the new features and other changes, you can read the\\n        <a href=\"https://github.com/php/php-src/blob/php-8.0.0beta4/NEWS\">NEWS</a> file,\\n        or the <a href=\"https://github.com/php/php-src/blob/php-8.0.0beta4/UPGRADING\">UPGRADING</a>\\n        file for a complete list of upgrading notes. These files can also be found in the release archive.\\n      </p>\\n\\n      <p>The next release will be the Release Candidate 1, planned for Oct 1 2020.</p>\\n\\n      <p>The signatures for the release can be found in <a href=\"https://gist.github.com/sgolemon/ddef47870381cae12120d41f59374847\">the manifest</a> or on <a href=\"https://qa.php.net/\">the QA site</a>.</p>\\n\\n      <p>Thank you for helping us make PHP better.</p>\\n    </div>\\n  \\n  </div>\\n</article><article class=\"newsentry\">\\n  <header class=\"title\">\\n    <time datetime=\"2020-09-03T12:41:00+00:00\">03 Sep 2020</time>\\n    <h2 class=\"newstitle\">\\n      <a href=\"https://www.php.net/archive/2020.php#2020-09-03-3\" id=\"2020-09-03-3\">PHP 8.0.0 Beta 3 available for testing</a>\\n    </h2>\\n  </header>\\n  <div class=\"newscontent\">\\n    <div>\\n      <p>\\n        The PHP team is pleased to announce the sixth testing release of PHP 8.0.0, Beta 3.\\n        This continues the PHP 8.0 release cycle, the rough outline of which is specified in the\\n        <a href=\"https://wiki.php.net/todo/php80\">PHP Wiki</a>.\\n      </p>\\n\\n      <p>For source downloads of PHP 8.0.0 Beta 3 please visit the <a href=\"https://downloads.php.net/~carusogabriel\">download page</a>.</p>\\n\\n      <p>Please carefully test this version and report any issues found in the <a href=\"http://bugs.php.net\">bug reporting system</a>.</p>\\n\\n      <p><b>Please DO NOT use this version in production, it is an early test version.</b></p>\\n\\n      <p>\\n        For more information on the new features and other changes, you can read the\\n        <a href=\"https://github.com/php/php-src/blob/php-8.0.0beta3/NEWS\">NEWS</a> file,\\n        or the <a href=\"https://github.com/php/php-src/blob/php-8.0.0beta3/UPGRADING\">UPGRADING</a>\\n        file for a complete list of upgrading notes. These files can also be found in the release archive.\\n      </p>\\n\\n      <p>The next release will be the Release Candidate 1, planned for Sep 17 2020.</p>\\n\\n      <p>The signatures for the release can be found in <a href=\"https://gist.github.com/carusogabriel/e95befa31ef171ad911e882d1b8c9f05\">the manifest</a> or on <a href=\"https://qa.php.net/\">the QA site</a>.</p>\\n\\n      <p>Thank you for helping us make PHP better.</p>\\n    </div>\\n  \\n  </div>\\n</article><article class=\"newsentry\">\\n  <header class=\"title\">\\n    <time datetime=\"2020-09-03T10:02:55+00:00\">03 Sep 2020</time>\\n    <h2 class=\"newstitle\">\\n      <a href=\"https://www.php.net/archive/2020.php#2020-09-03-2\" id=\"2020-09-03-2\">PHP 7.4.10 Released!</a>\\n    </h2>\\n  </header>\\n  <div class=\"newscontent\">\\n    <div><p>The PHP development team announces the immediate availability of PHP 7.4.10. This is a bug fix release.</p>\\n\\n<p>All PHP 7.4 users are encouraged to upgrade to this version.</p>\\n\\n<p>For source downloads of PHP 7.4.10 please visit our <a href=\"https://www.php.net/downloads.php\">downloads page</a>,\\nWindows source and binaries can be found on <a href=\"https://windows.php.net/download/\">windows.php.net/download/</a>.\\nThe list of changes is recorded in the <a href=\"https://www.php.net/ChangeLog-7.php#7.4.10\">ChangeLog</a>.\\n</p>    </div>\\n  \\n  </div>\\n</article><article class=\"newsentry\">\\n  <header class=\"title\">\\n    <time datetime=\"2020-09-03T09:19:07+00:00\">03 Sep 2020</time>\\n    <h2 class=\"newstitle\">\\n      <a href=\"https://www.php.net/archive/2020.php#2020-09-03-1\" id=\"2020-09-03-1\">PHP 7.3.22 Released!</a>\\n    </h2>\\n  </header>\\n  <div class=\"newscontent\">\\n    <div><p>The PHP development team announces the immediate availability of PHP 7.3.22. This is a bug fix release.</p>\\n\\n<p>All PHP 7.3 users are encouraged to upgrade to this version.</p>\\n\\n<p>For source downloads of PHP 7.3.22 please visit our <a href=\"https://www.php.net/downloads.php\">downloads page</a>,\\nWindows source and binaries can be found on <a href=\"https://windows.php.net/download/\">windows.php.net/download/</a>.\\nThe list of changes is recorded in the <a href=\"https://www.php.net/ChangeLog-7.php#7.3.22\">ChangeLog</a>.\\n</p>    </div>\\n  \\n  </div>\\n</article><article class=\"newsentry\">\\n  <header class=\"title\">\\n    <time datetime=\"2020-08-21T14:21:41+00:00\">21 Aug 2020</time>\\n    <h2 class=\"newstitle\">\\n      <a href=\"https://www.php.net/archive/2020.php#2020-08-21-1\" id=\"2020-08-21-1\">PHP 8.0.0beta2 Released!</a>\\n    </h2>\\n  </header>\\n  <div class=\"newscontent\">\\n    <div>\\n      <p>\\n        The PHP team is pleased to announce the fifth testing release of PHP 8.0.0, Beta 2.\\n        This continues the PHP 8.0 release cycle, the rough outline of which is specified in the\\n        <a href=\"https://wiki.php.net/todo/php80\">PHP Wiki</a>.\\n      </p>\\n\\n      <p>For source downloads of PHP 8.0.0 Beta 2 please visit the <a href=\"https://downloads.php.net/~pollita/\">download page</a>.</p>\\n\\n      <p>Please carefully test this version and report any issues found in the <a href=\"http://bugs.php.net\">bug reporting system</a>.</p>\\n\\n      <p><b>Please DO NOT use this version in production, it is an early test version.</b></p>\\n\\n      <p>\\n        For more information on the new features and other changes, you can read the\\n        <a href=\"https://github.com/php/php-src/blob/php-8.0.0beta2/NEWS\">NEWS</a> file,\\n        or the <a href=\"https://github.com/php/php-src/blob/php-8.0.0beta2/UPGRADING\">UPGRADING</a>\\n        file for a complete list of upgrading notes. These files can also be found in the release archive.\\n      </p>\\n\\n      <p>The next release will be Beta 3, planned for Sep 3 2020.</p>\\n\\n      <p>The signatures for the release can be found in <a href=\"https://gist.github.com/sgolemon/1694e5313d246eaf203318d516d53fba\">the manifest</a> or on <a href=\"https://qa.php.net/\">the QA site</a>.</p>\\n\\n      <p>Thank you for helping us make PHP better.</p>\\n    </div>\\n  \\n  </div>\\n</article><article class=\"newsentry\">\\n  <header class=\"title\">\\n    <time datetime=\"2020-08-06T10:08:21+00:00\">06 Aug 2020</time>\\n    <h2 class=\"newstitle\">\\n      <a href=\"https://www.php.net/archive/2020.php#2020-08-06-4\" id=\"2020-08-06-4\">PHP 7.4.9 Released!</a>\\n    </h2>\\n  </header>\\n  <div class=\"newscontent\">\\n    <div><p>The PHP development team announces the immediate availability of PHP 7.4.9. This is a bug fix release.</p>\\n\\n<p>All PHP 7.4 users are encouraged to upgrade to this version.</p>\\n\\n<p>For source downloads of PHP 7.4.9 please visit our <a href=\"https://www.php.net/downloads.php\">downloads page</a>,\\nWindows source and binaries can be found on <a href=\"https://windows.php.net/download/\">windows.php.net/download/</a>.\\nThe list of changes is recorded in the <a href=\"https://www.php.net/ChangeLog-7.php#7.4.9\">ChangeLog</a>.\\n</p>    </div>\\n  \\n  </div>\\n</article><article class=\"newsentry\">\\n  <header class=\"title\">\\n    <time datetime=\"2020-08-06T09:13:51+00:00\">06 Aug 2020</time>\\n    <h2 class=\"newstitle\">\\n      <a href=\"https://www.php.net/archive/2020.php#2020-08-06-3\" id=\"2020-08-06-3\">PHP 8.0.0 Beta 1 available for testing</a>\\n    </h2>\\n  </header>\\n  <div class=\"newscontent\">\\n    <div>\\n      <p>\\n        The PHP team is pleased to announce the fourth testing release of PHP 8.0.0, Beta 1.\\n        This continues the PHP 8.0 release cycle, the rough outline of which is specified in the\\n        <a href=\"https://wiki.php.net/todo/php80\">PHP Wiki</a>.\\n      </p>\\n\\n      <p>For source downloads of PHP 8.0.0 Beta 1 please visit the <a href=\"https://downloads.php.net/~carusogabriel\">download page</a>.</p>\\n\\n      <p>Please carefully test this version and report any issues found in the <a href=\"http://bugs.php.net\">bug reporting system</a>.</p>\\n\\n      <p><b>Please DO NOT use this version in production, it is an early test version.</b></p>\\n\\n      <p>\\n        For more information on the new features and other changes, you can read the\\n        <a href=\"https://github.com/php/php-src/blob/php-8.0.0beta1/NEWS\">NEWS</a> file,\\n        or the <a href=\"https://github.com/php/php-src/blob/php-8.0.0beta1/UPGRADING\">UPGRADING</a>\\n        file for a complete list of upgrading notes. These files can also be found in the release archive.\\n      </p>\\n\\n      <p>The next release will be Beta 2, planned for Aug 20 2020.</p>\\n\\n      <p>The signatures for the release can be found in <a href=\"https://gist.github.com/carusogabriel/527685326157fd31bdb6b277cbc0e45e\">the manifest</a> or on <a href=\"https://qa.php.net/\">the QA site</a>.</p>\\n\\n      <p>Thank you for helping us make PHP better.</p>\\n    </div>\\n  \\n  </div>\\n</article><article class=\"newsentry\">\\n  <header class=\"title\">\\n    <time datetime=\"2020-08-06T08:18:53+00:00\">06 Aug 2020</time>\\n    <h2 class=\"newstitle\">\\n      <a href=\"https://www.php.net/archive/2020.php#2020-08-06-2\" id=\"2020-08-06-2\">PHP 7.3.21 Released!</a>\\n    </h2>\\n  </header>\\n  <div class=\"newscontent\">\\n    <div><p>The PHP development team announces the immediate availability of PHP 7.3.21. This is a security release.</p>\\n\\n<p>All PHP 7.3 users are encouraged to upgrade to this version.</p>\\n\\n<p>For source downloads of PHP 7.3.21 please visit our <a href=\"https://www.php.net/downloads.php\">downloads page</a>,\\nWindows source and binaries can be found on <a href=\"https://windows.php.net/download/\">windows.php.net/download/</a>.\\nThe list of changes is recorded in the <a href=\"https://www.php.net/ChangeLog-7.php#7.3.21\">ChangeLog</a>.\\n</p>    </div>\\n  \\n  </div>\\n</article><article class=\"newsentry\">\\n  <header class=\"title\">\\n    <time datetime=\"2020-08-06T07:47:41+00:00\">06 Aug 2020</time>\\n    <h2 class=\"newstitle\">\\n      <a href=\"https://www.php.net/archive/2020.php#2020-08-06-1\" id=\"2020-08-06-1\">PHP 7.2.33 Released!</a>\\n    </h2>\\n  </header>\\n  <div class=\"newscontent\">\\n    <div>\\n     <p>The PHP development team announces the immediate availability of PHP 7.2.33.\\n     This is a security release.</p>\\n\\n     <p>All PHP 7.2 users are encouraged to upgrade to this version.</p>\\n\\n     <p>For source downloads of PHP 7.2.33 please visit our <a href=\"https://www.php.net/downloads.php\">downloads page</a>,\\n     Windows source and binaries can be found on <a href=\"https://windows.php.net/download/\">windows.php.net/download/</a>.\\n     The list of changes is recorded in the <a href=\"https://www.php.net/ChangeLog-7.php#7.2.33\">ChangeLog</a>.\\n     </p>\\n    </div>\\n  \\n  </div>\\n</article><article class=\"newsentry\">\\n  <header class=\"title\">\\n    <time datetime=\"2020-07-23T10:35:37+00:00\">23 Jul 2020</time>\\n    <h2 class=\"newstitle\">\\n      <a href=\"https://www.php.net/archive/2020.php#2020-07-23-1\" id=\"2020-07-23-1\">PHP 8.0.0 Alpha 3 available for testing</a>\\n    </h2>\\n  </header>\\n  <div class=\"newscontent\">\\n    <div>\\n      <p>\\n        The PHP team is pleased to announce the third testing release of PHP 8.0.0, Alpha 3.\\n        This continues the PHP 8.0 release cycle, the rough outline of which is specified in the\\n        <a href=\"https://wiki.php.net/todo/php80\">PHP Wiki</a>.\\n      </p>\\n\\n      <p>For source downloads of PHP 8.0.0 Alpha 3 please visit the <a href=\"https://downloads.php.net/~carusogabriel\">download page</a>.</p>\\n\\n      <p>Please carefully test this version and report any issues found in the <a href=\"http://bugs.php.net\">bug reporting system</a>.</p>\\n\\n      <p><b>Please DO NOT use this version in production, it is an early test version.</b></p>\\n\\n      <p>\\n        For more information on the new features and other changes, you can read the\\n        <a href=\"https://github.com/php/php-src/blob/php-8.0.0alpha3/NEWS\">NEWS</a> file,\\n        or the <a href=\"https://github.com/php/php-src/blob/php-8.0.0alpha3/UPGRADING\">UPGRADING</a>\\n        file for a complete list of upgrading notes. These files can also be found in the release archive.\\n      </p>\\n\\n      <p>The next release will be Beta 1, planned for Aug 06 2020.</p>\\n\\n      <p>The signatures for the release can be found in <a href=\"https://gist.github.com/carusogabriel/6e0b8b33ee4dd2da23002863af4de965\">the manifest</a> or on <a href=\"https://qa.php.net/\">the QA site</a>.</p>\\n\\n      <p>Thank you for helping us make PHP better.</p>\\n    </div>\\n  \\n  </div>\\n</article><article class=\"newsentry\">\\n  <header class=\"title\">\\n    <time datetime=\"2020-07-09T13:54:17+00:00\">09 Jul 2020</time>\\n    <h2 class=\"newstitle\">\\n      <a href=\"https://www.php.net/archive/2020.php#2020-07-09-4\" id=\"2020-07-09-4\">PHP 7.4.8 Released!</a>\\n    </h2>\\n  </header>\\n  <div class=\"newscontent\">\\n    <div>\\n<p>The PHP development team announces the immediate availability of PHP 7.4.8.\\nThis is a security release impacting the <a href=\"https://windows.php.net/\">official Windows builds</a> of PHP.</p>\\n\\n<p>For windows users running an official build, this release contains a\\npatched version of <a href=\"https://curl.haxx.se\">libcurl</a> addressing\\n<a href=\"https://curl.haxx.se/docs/CVE-2020-8169.html\">CVE-2020-8169</a>.</p>\\n\\n<p>For all other consumers of PHP, this is a bug fix release.</p>\\n\\n<p>All PHP 7.4 users are encouraged to upgrade to this version.</p>\\n\\n<p>For source downloads of PHP 7.4.8 please visit our <a href=\"https://www.php.net/downloads.php\">downloads page</a>,\\nWindows source and binaries can be found on <a href=\"https://windows.php.net/download/\">windows.php.net/download/</a>.\\nThe list of changes is recorded in the <a href=\"https://www.php.net/ChangeLog-7.php#7.4.8\">ChangeLog</a>.\\n</p>\\n\\t</div>\\n  \\n  </div>\\n</article><article class=\"newsentry\">\\n  <header class=\"title\">\\n    <time datetime=\"2020-07-09T13:23:41+00:00\">09 Jul 2020</time>\\n    <h2 class=\"newstitle\">\\n      <a href=\"https://www.php.net/archive/2020.php#2020-07-09-2\" id=\"2020-07-09-2\">PHP 7.2.32 Released!</a>\\n    </h2>\\n  </header>\\n  <div class=\"newscontent\">\\n    <div>\\n      <p>\\n        The PHP development team announces the immediate availability of PHP 7.2.32.\\n        This is a security release impacting the\\n        <a href=\"https://windows.php.net/\">official Windows builds</a> of PHP.\\n      </p>\\n\\n      <p>\\n        For windows users running an official build, this release contains a\\n        patched version of <a href=\"https://curl.haxx.se\">libcurl</a> addressing\\n        <a href=\"https://curl.haxx.se/docs/CVE-2020-8169.html\">CVE-2020-8169</a>.\\n      </p>\\n\\n      <p>\\n        For all other consumers of PHP, this release is functionally identical\\n        to PHP 7.2.31 and no upgrade from that point release is necessary.\\n      </p>\\n\\n      <p>\\n        For source downloads of PHP 7.2.32 please visit our <a href=\"http://www.php.net/downloads.php\">downloads page</a>,\\n        Windows source and binaries can be found on <a href=\"http://windows.php.net/download/\">windows.php.net/download/</a>.\\n        The list of changes is recorded in the <a href=\"http://www.php.net/ChangeLog-7.php#7.2.32\">ChangeLog</a>.\\n      </p>\\n    </div>\\n  \\n  </div>\\n</article><article class=\"newsentry\">\\n  <header class=\"title\">\\n    <time datetime=\"2020-07-09T13:26:32+00:00\">09 Jul 2020</time>\\n    <h2 class=\"newstitle\">\\n      <a href=\"https://www.php.net/archive/2020.php#2020-07-09-2\" id=\"2020-07-09-2\">PHP 7.3.20 Released!</a>\\n    </h2>\\n  </header>\\n  <div class=\"newscontent\">\\n    <div><p>The PHP development team announces the immediate availability of PHP 7.3.20.  This is a security release impacting the\\n<a href=\"https://windows.php.net/\">official Windows builds</a> of PHP.</p>\\n\\n<p>For windows users running an official build, this release contains a\\npatched version of <a href=\"https://curl.haxx.se\">libcurl</a> addressing\\n<a href=\"https://curl.haxx.se/docs/CVE-2020-8169.html\">CVE-2020-8169</a>.</p>\\n\\n<p>For all other consumers of PHP, this is a bug fix release.</p>\\n\\n<p>All PHP 7.3 users are encouraged to upgrade to this version.</p>\\n\\n<p>For source downloads of PHP 7.3.20 please visit our <a href=\"https://www.php.net/downloads.php\">downloads page</a>,\\nWindows source and binaries can be found on <a href=\"https://windows.php.net/download/\">windows.php.net/download/</a>.\\nThe list of changes is recorded in the <a href=\"https://www.php.net/ChangeLog-7.php#7.3.20\">ChangeLog</a>.\\n</p>\\n    </div>\\n  \\n  </div>\\n</article><article class=\"newsentry\">\\n  <header class=\"title\">\\n    <time datetime=\"2020-07-09T09:55:15+00:00\">09 Jul 2020</time>\\n    <h2 class=\"newstitle\">\\n      <a href=\"https://www.php.net/archive/2020.php#2020-07-09-1\" id=\"2020-07-09-1\">PHP 8.0.0 Alpha 2 available for testing</a>\\n    </h2>\\n  </header>\\n  <div class=\"newscontent\">\\n    <div>\\n      <p>\\n        The PHP team is pleased to announce the second testing release of PHP 8.0.0, Alpha 2.\\n        This continues the PHP 8.0 release cycle, the rough outline of which is specified in the\\n        <a href=\"https://wiki.php.net/todo/php80\">PHP Wiki</a>.\\n        </p>\\n        \\n        <p>For source downloads of PHP 8.0.0 Alpha 2 please visit the <a href=\"https://downloads.php.net/~carusogabriel\">download page</a>.</p>\\n        \\n        <p>Please carefully test this version and report any issues found in the <a href=\"http://bugs.php.net\">bug reporting system</a>.</p>\\n        \\n        <p><b>Please DO NOT use this version in production, it is an early test version.</b></p>\\n        \\n        <p>\\n         For more information on the new features and other changes, you can read the\\n         <a href=\"https://github.com/php/php-src/blob/php-8.0.0alpha2/NEWS\">NEWS</a> file,\\n         or the <a href=\"https://github.com/php/php-src/blob/php-8.0.0alpha2/UPGRADING\">UPGRADING</a>\\n         file for a complete list of upgrading notes. These files can also be found in the release archive.\\n        </p>\\n        \\n        <p>The next release will be Alpha 3, planned for 23 Jul 2020.</p>\\n        \\n        <p>The signatures for the release can be found in <a href=\"https://gist.github.com/carusogabriel/0ae8a6238ab9336be7d8e1eb6873888f\">the manifest</a> or on <a href=\"https://qa.php.net/\">the QA site</a>.</p>\\n        \\n        <p>Thank you for helping us make PHP better.</p>\\n    </div>\\n  \\n  </div>\\n</article><article class=\"newsentry\">\\n  <header class=\"title\">\\n    <time datetime=\"2020-06-25T16:40:41+00:00\">25 Jun 2020</time>\\n    <h2 class=\"newstitle\">\\n      <a href=\"https://www.php.net/archive/2020.php#2020-06-25-1\" id=\"2020-06-25-1\">PHP 8.0.0 Alpha 1 available for testing</a>\\n    </h2>\\n  </header>\\n  <div class=\"newscontent\">\\n    <div>\\n     <p>\\n     The PHP team is pleased to announce the first testing release of PHP 8.0.0, Alpha 1.\\n     This starts the PHP 8.0 release cycle, the rough outline of which is specified in the\\n     <a href=\"https://wiki.php.net/todo/php80\">PHP Wiki</a>.\\n     </p>\\n     \\n     <p>For source downloads of PHP 8.0.0 Alpha 1 please visit the <a href=\"https://downloads.php.net/~pollita\">download page</a>.</p>\\n     \\n     <p>Please carefully test this version and report any issues found in the <a href=\"http://bugs.php.net\">bug reporting system</a>.</p>\\n     \\n     <p><b>Please DO NOT use this version in production, it is an early test version.</b></p>\\n     \\n     <p>\\n      For more information on the new features and other changes, you can read the\\n      <a href=\"https://github.com/php/php-src/blob/php-8.0.0alpha1/NEWS\">NEWS</a> file,\\n      or the <a href=\"https://github.com/php/php-src/blob/php-8.0.0alpha1/UPGRADING\">UPGRADING</a>\\n      file for a complete list of upgrading notes. These files can also be found in the release archive.\\n     </p>\\n     \\n     <p>The next release will be Alpha 2, planned for 9 Jul 2020.</p>\\n     \\n     <p>The signatures for the release can be found in <a href=\"https://gist.github.com/sgolemon/9b268eb2606cdc9664d77a77f9595540\">the manifest</a> or on <a href=\"https://qa.php.net/\">the QA site</a>.</p>\\n     \\n     <p>Thank you for helping us make PHP better.</p>\\n    </div>\\n  \\n  </div>\\n</article><article class=\"newsentry\">\\n  <header class=\"title\">\\n    <time datetime=\"2020-06-11T14:13:17+00:00\">11 Jun 2020</time>\\n    <h2 class=\"newstitle\">\\n      <a href=\"https://www.php.net/archive/2020.php#2020-06-11-2\" id=\"2020-06-11-2\">PHP 7.4.7 Released!</a>\\n    </h2>\\n  </header>\\n  <div class=\"newscontent\">\\n    <div>\\n     <p>The PHP development team announces the immediate availability of PHP\\n     7.4.7. This release is a bug fix release.</p>\\n     \\n     <p>All PHP 7.4 users are encouraged to upgrade to this version.</p>\\n     \\n     <p>For source downloads of PHP 7.4.7 please visit our <a href=\"http://www.php.net/downloads.php\">downloads page</a>,\\n     Windows source and binaries can be found on <a href=\"http://windows.php.net/download/\">windows.php.net/download/</a>.\\n     The list of changes is recorded in the <a href=\"http://www.php.net/ChangeLog-7.php#7.4.7\">ChangeLog</a>.\\n     </p>\\n    </div>\\n  \\n  </div>\\n</article><article class=\"newsentry\">\\n  <header class=\"title\">\\n    <time datetime=\"2020-06-11T10:51:02+00:00\">11 Jun 2020</time>\\n    <h2 class=\"newstitle\">\\n      <a href=\"https://www.php.net/archive/2020.php#2020-06-11-2\" id=\"2020-06-11-2\">PHP 7.3.19 Released</a>\\n    </h2>\\n  </header>\\n  <div class=\"newscontent\">\\n    <div>\\n      <p>The PHP development team announces the immediate availability of PHP\\n      7.3.19. This is a bug fix release.</p>\\n\\n      <p>All PHP 7.3 users are encouraged to upgrade to this version.</p>\\n\\n      <p>For source downloads of PHP 7.3.19 please visit our <a href=\"https://www.php.net/downloads.php\">downloads page</a>,\\n      Windows source and binaries can be found on <a href=\"https://windows.php.net/download/\">windows.php.net/download/</a>.\\n      The list of changes is recorded in the <a href=\"https://www.php.net/ChangeLog-7.php#7.3.19\">ChangeLog</a>.\\n      </p>\\n    </div>\\n  \\n  </div>\\n</article><article class=\"newsentry\">\\n  <header class=\"title\">\\n    <time datetime=\"2020-05-14T08:49:42+00:00\">14 May 2020</time>\\n    <h2 class=\"newstitle\">\\n      <a href=\"https://www.php.net/archive/2020.php#2020-05-14-3\" id=\"2020-05-14-3\">PHP 7.4.6 Released!</a>\\n    </h2>\\n  </header>\\n  <div class=\"newscontent\">\\n    <div>\\n     <p>The PHP development team announces the immediate availability of PHP\\n     7.4.6. This is a security release which also contains several bug fixes.</p>\\n     \\n     <p>All PHP 7.4 users are encouraged to upgrade to this version.</p>\\n     \\n     <p>For source downloads of PHP 7.4.6 please visit our <a href=\"http://www.php.net/downloads.php\">downloads page</a>,\\n     Windows source and binaries can be found on <a href=\"http://windows.php.net/download/\">windows.php.net/download/</a>.\\n     The list of changes is recorded in the <a href=\"http://www.php.net/ChangeLog-7.php#7.4.6\">ChangeLog</a>.\\n     </p>\\n    </div>\\n  \\n  </div>\\n</article><article class=\"newsentry\">\\n  <header class=\"title\">\\n    <time datetime=\"2020-05-14T08:26:30+00:00\">14 May 2020</time>\\n    <h2 class=\"newstitle\">\\n      <a href=\"https://www.php.net/archive/2020.php#2020-05-14-2\" id=\"2020-05-14-2\">PHP 7.3.18 Released</a>\\n    </h2>\\n  </header>\\n  <div class=\"newscontent\">\\n    <div>\\n      <p>The PHP development team announces the immediate availability of PHP\\n      7.3.18 This is a security release which also contains several bug fixes.</p>\\n    \\n      <p>All PHP 7.3 users are encouraged to upgrade to this version.</p>\\n    \\n      <p>For source downloads of PHP 7.3.18 please visit our <a href=\"https://www.php.net/downloads.php\">downloads page</a>,\\n      Windows source and binaries can be found on <a href=\"https://windows.php.net/download/\">windows.php.net/download/</a>.\\n      The list of changes is recorded in the <a href=\"https://www.php.net/ChangeLog-7.php#7.3.18\">ChangeLog</a>.\\n      </p>\\n    </div>\\n  \\n  </div>\\n</article><article class=\"newsentry\">\\n  <header class=\"title\">\\n    <time datetime=\"2020-05-14T07:35:50+00:00\">14 May 2020</time>\\n    <h2 class=\"newstitle\">\\n      <a href=\"https://www.php.net/archive/2020.php#2020-05-14-1\" id=\"2020-05-14-1\">PHP 7.2.31 Released</a>\\n    </h2>\\n  </header>\\n  <div class=\"newscontent\">\\n    <div>\\n     <p>The PHP development team announces the immediate availability of PHP\\n     7.2.31. This is a security release.</p>\\n\\n     <p>All PHP 7.2 users are encouraged to upgrade to this version.</p>\\n\\n     <p>For source downloads of PHP 7.2.31 please visit our <a href=\"http://www.php.net/downloads.php\">downloads page</a>,\\n     Windows source and binaries can be found on <a href=\"http://windows.php.net/download/\">windows.php.net/download/</a>.\\n     The list of changes is recorded in the <a href=\"http://www.php.net/ChangeLog-7.php#7.2.31\">ChangeLog</a>.\\n     </p>\\n    </div>\\n  \\n  </div>\\n</article><article class=\"newsentry\">\\n  <header class=\"title\">\\n    <time datetime=\"2020-04-17T20:23:20+00:00\">17 Apr 2020</time>\\n    <h2 class=\"newstitle\">\\n      <a href=\"https://www.php.net/archive/2020.php#2020-04-17-1\" id=\"2020-04-17-1\">PHP 7.2.30 Release Announcement</a>\\n    </h2>\\n  </header>\\n  <div class=\"newscontent\">\\n    <div>\\n     <p>The PHP development team announces the immediate availability of PHP 7.2.30.\\n     This is a security release.</p>\\n     \\n     <p>All PHP 7.2 users are encouraged to upgrade to this version.</p>\\n     \\n     <p>For source downloads of PHP 7.2.30 please visit our <a href=\"http://www.php.net/downloads.php\">downloads page</a>,\\n     Windows source and binaries can be found on <a href=\"http://windows.php.net/download/\">windows.php.net/download/</a>.\\n     The list of changes is recorded in the <a href=\"http://www.php.net/ChangeLog-7.php#7.2.30\">ChangeLog</a>.\\n     </p>\\n    </div>\\n  \\n  </div>\\n</article><article class=\"newsentry\">\\n  <header class=\"title\">\\n    <time datetime=\"2020-04-16T09:46:52+00:00\">16 Apr 2020</time>\\n    <h2 class=\"newstitle\">\\n      <a href=\"https://www.php.net/archive/2020.php#2020-04-16-2\" id=\"2020-04-16-2\">PHP 7.4.5 Released</a>\\n    </h2>\\n  </header>\\n  <div class=\"newscontent\">\\n    <div>\\n     <p>The PHP development team announces the immediate availability of PHP\\n     7.4.5. This is a security release which also contains several bug fixes.</p>\\n     \\n     <p>All PHP 7.4 users are encouraged to upgrade to this version.</p>\\n     \\n     <p>For source downloads of PHP 7.4.5 please visit our <a href=\"http://www.php.net/downloads.php\">downloads page</a>,\\n     Windows source and binaries can be found on <a href=\"http://windows.php.net/download/\">windows.php.net/download/</a>.\\n     The list of changes is recorded in the <a href=\"http://www.php.net/ChangeLog-7.php#7.4.5\">ChangeLog</a>.\\n     </p>\\n    </div>\\n  \\n  </div>\\n</article><article class=\"newsentry\">\\n  <header class=\"title\">\\n    <time datetime=\"2020-04-16T08:14:04+00:00\">16 Apr 2020</time>\\n    <h2 class=\"newstitle\">\\n      <a href=\"https://www.php.net/archive/2020.php#2020-04-16-1\" id=\"2020-04-16-1\">PHP 7.3.17 Released</a>\\n    </h2>\\n  </header>\\n  <div class=\"newscontent\">\\n    <div>\\n      <p>The PHP development team announces the immediate availability of PHP\\n      7.3.17 This is a security release which also contains several bug fixes.</p>\\n    \\n      <p>All PHP 7.3 users are encouraged to upgrade to this version.</p>\\n    \\n      <p>For source downloads of PHP 7.3.17 please visit our <a href=\"https://www.php.net/downloads.php\">downloads page</a>,\\n      Windows source and binaries can be found on <a href=\"https://windows.php.net/download/\">windows.php.net/download/</a>.\\n      The list of changes is recorded in the <a href=\"https://www.php.net/ChangeLog-7.php#7.3.17\">ChangeLog</a>.\\n      </p>\\n    </div>\\n  \\n  </div>\\n</article><article class=\"newsentry\">\\n  <header class=\"title\">\\n    <time datetime=\"2020-03-19T14:46:06+00:00\">19 Mar 2020</time>\\n    <h2 class=\"newstitle\">\\n      <a href=\"https://www.php.net/archive/2020.php#2020-03-19-3\" id=\"2020-03-19-3\">PHP 7.4.4 Released!</a>\\n    </h2>\\n  </header>\\n  <div class=\"newscontent\">\\n    <div>\\n     <p>The PHP development team announces the immediate availability of PHP 7.4.4.\\n     This is a bug fix release.</p>\\n     \\n     <p>All PHP 7.4 users are encouraged to upgrade to this version.</p>\\n     \\n     <p>For source downloads of PHP 7.4.4 please visit our\\n     <a href=\"http://www.php.net/downloads\">downloads</a> page Windows binaries can\\n     be found on the <a href=\"http://windows.php.net/download\">PHP for Windows</a>\\n     site. The list of changes is recorded in the\\n     <a href=\"http://www.php.net/ChangeLog-7.php#7.4.4\">ChangeLog</a>.</p>\\n    </div>\\n  \\n  </div>\\n</article><article class=\"newsentry\">\\n  <header class=\"title\">\\n    <time datetime=\"2020-03-19T09:56:36+00:00\">19 Mar 2020</time>\\n    <h2 class=\"newstitle\">\\n      <a href=\"https://www.php.net/archive/2020.php#2020-03-19-2\" id=\"2020-03-19-2\">PHP 7.2.29 Released</a>\\n    </h2>\\n  </header>\\n  <div class=\"newscontent\">\\n    <div>\\n     <p>The PHP development team announces the immediate availability of PHP\\n     7.2.29. This is a security release.</p>\\n\\n     <p>All PHP 7.2 users are encouraged to upgrade to this version.</p>\\n\\n     <p>For source downloads of PHP 7.2.29 please visit our <a href=\"http://www.php.net/downloads.php\">downloads page</a>,\\n     Windows source and binaries can be found on <a href=\"http://windows.php.net/download/\">windows.php.net/download/</a>.\\n     The list of changes is recorded in the <a href=\"http://www.php.net/ChangeLog-7.php#7.2.29\">ChangeLog</a>.\\n     </p>\\n    </div>\\n  \\n  </div>\\n</article><p class=\"archive\"><a href=\"/archive/\">Older News Entries</a></p></div>    </section><!-- layout-content -->\\n    \\n<aside class=\"tips\">\\n    <div class=\"inner\">\\n<div class=\"panel\">  <a href=\"/conferences\" class=\"headline\" title=\"Conferences calling for papers\">Conferences calling for papers</a><div class=\"body\"><ul><li><a href=\\'https://www.php.net/conferences/index.php#id2020-09-15-1\\' title=\\'PHP Conference Japan 2020 CFP Started\\'>PHP Conference Japan 2020 CFP Started</a></li></ul></div></div><div class=\"panel\">  <a href=\"/conferences\" class=\"headline\" title=\"Upcoming conferences\">Upcoming conferences</a><div class=\"body\"><ul><li><a href=\\'https://www.php.net/conferences/index.php#id2020-07-14-2\\' title=\\'International PHP Conference Munich 2020\\'>International PHP Conference Munich 2020</a></li><li><a href=\\'https://www.php.net/conferences/index.php#id2020-07-14-1\\' title=\\'International PHP Conference Berlin 2020\\'>International PHP Conference Berlin 2020</a></li><li><a href=\\'https://www.php.net/conferences/index.php#id2020-06-24-1\\' title=\\'PHP.RUHR 2020 - Web Development & Digital Commerce\\'>PHP.RUHR 2020 - Web Development & Digital Commerce</a></li></ul></div></div>\\n    <p class=\\'panel\\'><a href=\\'/cal.php\\'>User Group Events</a></p>\\n    <p class=\\'panel\\'><a href=\\'/thanks.php\\'>Special Thanks</a></p>\\n    <p class=\\'panel social-media\\'>\\n      <span class=\\'headline\\'>Social media</span>\\n      <div class=\\'body\\'>\\n        <ul>\\n          <li>\\n            <a href=\"https://twitter.com/official_php\">\\n              <i class=\"icon-twitter\"></i>\\n              @official_php\\n            </a>\\n          </li>\\n        </ul>\\n      </div>\\n    </p>\\n</div>\\n</aside>\\n\\n  </div><!-- layout -->\\n\\n  <footer>\\n    <div class=\"container footer-content\">\\n      <div class=\"row-fluid\">\\n      <ul class=\"footmenu\">\\n        <li><a href=\"/copyright.php\">Copyright &copy; 2001-2020 The PHP Group</a></li>\\n        <li><a href=\"/my.php\">My PHP.net</a></li>\\n        <li><a href=\"/contact.php\">Contact</a></li>\\n        <li><a href=\"/sites.php\">Other PHP.net sites</a></li>\\n        <li><a href=\"/privacy.php\">Privacy policy</a></li>\\n      </ul>\\n      </div>\\n    </div>\\n  </footer>\\n\\n    <div class=\\'elephpants\\'><div class=images></div></div>\\n <!-- External and third party libraries. -->\\n <script src=\"//ajax.googleapis.com/ajax/libs/jquery/1.10.2/jquery.min.js\"></script>\\n<script src=\"/cached.php?t=1421837618&amp;f=/js/ext/modernizr.js\"></script>\\n<script src=\"/cached.php?t=1421837618&amp;f=/js/ext/hogan-2.0.0.min.js\"></script>\\n<script src=\"/cached.php?t=1421837618&amp;f=/js/ext/typeahead.min.js\"></script>\\n<script src=\"/cached.php?t=1421837618&amp;f=/js/ext/mousetrap.min.js\"></script>\\n<script src=\"/cached.php?t=1421837618&amp;f=/js/search.js\"></script>\\n<script src=\"/cached.php?t=1598370002&amp;f=/js/common.js\"></script>\\n\\n<a id=\"toTop\" href=\"javascript:;\"><span id=\"toTopHover\"></span><img width=\"40\" height=\"40\" alt=\"To Top\" src=\"/images/to-top@2x.png\"></a>\\n\\n</body>\\n</html>\\n'\n"
     ]
    }
   ],
   "source": [
    "response = urllib.request.urlopen('http://php.net/')\n",
    "html = response.read()\n",
    "print(html)"
   ]
  },
  {
   "cell_type": "code",
   "execution_count": 60,
   "metadata": {},
   "outputs": [
    {
     "name": "stdout",
     "output_type": "stream",
     "text": [
      "PHP: Hypertext PreprocessorDownloadsDocumentationGet InvolvedHelpGetting StartedIntroductionA simple tutorialLanguage ReferenceBasic syntaxTypesVariablesConstantsExpressionsOperatorsControl StructuresFunctionsClasses and ObjectsNamespacesErrorsExceptionsGeneratorsReferences ExplainedPredefined VariablesPredefined ExceptionsPredefined Interfaces and ClassesContext options and parametersSupported Protocols and WrappersSecurityIntroductionGeneral considerationsInstalled as CGI binaryInstalled as an Apache moduleSession SecurityFilesystem SecurityDatabase SecurityError ReportingUsing Register GlobalsUser Submitted DataMagic QuotesHiding PHPKeeping CurrentFeaturesHTTP authentication with PHPCookiesSessionsDealing with XFormsHandling file uploadsUsing remote filesConnection handlingPersistent Database ConnectionsSafe ModeCommand line usageGarbage CollectionDTrace Dynamic TracingFunction ReferenceAffecting PHP's BehaviourAudio Formats ManipulationAuthentication ServicesCommand Line Specific ExtensionsCompression and Archive ExtensionsCredit Card ProcessingCryptography ExtensionsDatabase ExtensionsDate and Time Related ExtensionsFile System Related ExtensionsHuman Language and Character Encoding SupportImage Processing and GenerationMail Related ExtensionsMathematical ExtensionsNon-Text MIME OutputProcess Control ExtensionsOther Basic ExtensionsOther ServicesSearch Engine ExtensionsServer Specific ExtensionsSession ExtensionsText ProcessingVariable and Type Related ExtensionsWeb ServicesWindows Only ExtensionsXML ManipulationGUI ExtensionsKeyboard Shortcuts?This helpjNext menu itemkPrevious menu itemg pPrevious man pageg nNext man pageGScroll to bottomg gScroll to topg hGoto homepageg sGoto search(current page)/Focus search boxPHP is a popular general-purpose scripting language that is especially suited to web development.Fast, flexible and pragmatic, PHP powers everything from your blog to the most popular websites in the world.Download7.4.10·Release Notes·Upgrading7.3.22·Release Notes·Upgrading7.2.33·Release Notes·Upgrading17 Sep 2020PHP 8.0.0 Beta 4 available for testingThe PHP team is pleased to announce the seventh testing release of PHP 8.0.0, Beta 4.\n",
      "        This point in the release cycle would normally be RC1, however we're still finalizing\n",
      "        development of the JIT and squaring away named arguments, so we've opted for an extra\n",
      "        beta release with plans to start the RC cycle in two weeks.At this time, we're not planning to adjust the GA date,\n",
      "        however this may change during the course of the RC cycle.\n",
      "        The updated release schedule can, as always, be found on thePHP Wiki.For source downloads of PHP 8.0.0 Beta 4 please visit thedownload page.Please carefully test this version and report any issues found in thebug reporting system.Please DO NOT use this version in production, it is an early test version.For more information on the new features and other changes, you can read theNEWSfile,\n",
      "        or theUPGRADINGfile for a complete list of upgrading notes. These files can also be found in the release archive.The next release will be the Release Candidate 1, planned for Oct 1 2020.The signatures for the release can be found inthe manifestor onthe QA site.Thank you for helping us make PHP better.03 Sep 2020PHP 8.0.0 Beta 3 available for testingThe PHP team is pleased to announce the sixth testing release of PHP 8.0.0, Beta 3.\n",
      "        This continues the PHP 8.0 release cycle, the rough outline of which is specified in thePHP Wiki.For source downloads of PHP 8.0.0 Beta 3 please visit thedownload page.Please carefully test this version and report any issues found in thebug reporting system.Please DO NOT use this version in production, it is an early test version.For more information on the new features and other changes, you can read theNEWSfile,\n",
      "        or theUPGRADINGfile for a complete list of upgrading notes. These files can also be found in the release archive.The next release will be the Release Candidate 1, planned for Sep 17 2020.The signatures for the release can be found inthe manifestor onthe QA site.Thank you for helping us make PHP better.03 Sep 2020PHP 7.4.10 Released!The PHP development team announces the immediate availability of PHP 7.4.10. This is a bug fix release.All PHP 7.4 users are encouraged to upgrade to this version.For source downloads of PHP 7.4.10 please visit ourdownloads page,\n",
      "Windows source and binaries can be found onwindows.php.net/download/.\n",
      "The list of changes is recorded in theChangeLog.03 Sep 2020PHP 7.3.22 Released!The PHP development team announces the immediate availability of PHP 7.3.22. This is a bug fix release.All PHP 7.3 users are encouraged to upgrade to this version.For source downloads of PHP 7.3.22 please visit ourdownloads page,\n",
      "Windows source and binaries can be found onwindows.php.net/download/.\n",
      "The list of changes is recorded in theChangeLog.21 Aug 2020PHP 8.0.0beta2 Released!The PHP team is pleased to announce the fifth testing release of PHP 8.0.0, Beta 2.\n",
      "        This continues the PHP 8.0 release cycle, the rough outline of which is specified in thePHP Wiki.For source downloads of PHP 8.0.0 Beta 2 please visit thedownload page.Please carefully test this version and report any issues found in thebug reporting system.Please DO NOT use this version in production, it is an early test version.For more information on the new features and other changes, you can read theNEWSfile,\n",
      "        or theUPGRADINGfile for a complete list of upgrading notes. These files can also be found in the release archive.The next release will be Beta 3, planned for Sep 3 2020.The signatures for the release can be found inthe manifestor onthe QA site.Thank you for helping us make PHP better.06 Aug 2020PHP 7.4.9 Released!The PHP development team announces the immediate availability of PHP 7.4.9. This is a bug fix release.All PHP 7.4 users are encouraged to upgrade to this version.For source downloads of PHP 7.4.9 please visit ourdownloads page,\n",
      "Windows source and binaries can be found onwindows.php.net/download/.\n",
      "The list of changes is recorded in theChangeLog.06 Aug 2020PHP 8.0.0 Beta 1 available for testingThe PHP team is pleased to announce the fourth testing release of PHP 8.0.0, Beta 1.\n",
      "        This continues the PHP 8.0 release cycle, the rough outline of which is specified in thePHP Wiki.For source downloads of PHP 8.0.0 Beta 1 please visit thedownload page.Please carefully test this version and report any issues found in thebug reporting system.Please DO NOT use this version in production, it is an early test version.For more information on the new features and other changes, you can read theNEWSfile,\n",
      "        or theUPGRADINGfile for a complete list of upgrading notes. These files can also be found in the release archive.The next release will be Beta 2, planned for Aug 20 2020.The signatures for the release can be found inthe manifestor onthe QA site.Thank you for helping us make PHP better.06 Aug 2020PHP 7.3.21 Released!The PHP development team announces the immediate availability of PHP 7.3.21. This is a security release.All PHP 7.3 users are encouraged to upgrade to this version.For source downloads of PHP 7.3.21 please visit ourdownloads page,\n",
      "Windows source and binaries can be found onwindows.php.net/download/.\n",
      "The list of changes is recorded in theChangeLog.06 Aug 2020PHP 7.2.33 Released!The PHP development team announces the immediate availability of PHP 7.2.33.\n",
      "     This is a security release.All PHP 7.2 users are encouraged to upgrade to this version.For source downloads of PHP 7.2.33 please visit ourdownloads page,\n",
      "     Windows source and binaries can be found onwindows.php.net/download/.\n",
      "     The list of changes is recorded in theChangeLog.23 Jul 2020PHP 8.0.0 Alpha 3 available for testingThe PHP team is pleased to announce the third testing release of PHP 8.0.0, Alpha 3.\n",
      "        This continues the PHP 8.0 release cycle, the rough outline of which is specified in thePHP Wiki.For source downloads of PHP 8.0.0 Alpha 3 please visit thedownload page.Please carefully test this version and report any issues found in thebug reporting system.Please DO NOT use this version in production, it is an early test version.For more information on the new features and other changes, you can read theNEWSfile,\n",
      "        or theUPGRADINGfile for a complete list of upgrading notes. These files can also be found in the release archive.The next release will be Beta 1, planned for Aug 06 2020.The signatures for the release can be found inthe manifestor onthe QA site.Thank you for helping us make PHP better.09 Jul 2020PHP 7.4.8 Released!The PHP development team announces the immediate availability of PHP 7.4.8.\n",
      "This is a security release impacting theofficial Windows buildsof PHP.For windows users running an official build, this release contains a\n",
      "patched version oflibcurladdressingCVE-2020-8169.For all other consumers of PHP, this is a bug fix release.All PHP 7.4 users are encouraged to upgrade to this version.For source downloads of PHP 7.4.8 please visit ourdownloads page,\n",
      "Windows source and binaries can be found onwindows.php.net/download/.\n",
      "The list of changes is recorded in theChangeLog.09 Jul 2020PHP 7.2.32 Released!The PHP development team announces the immediate availability of PHP 7.2.32.\n",
      "        This is a security release impacting theofficial Windows buildsof PHP.For windows users running an official build, this release contains a\n",
      "        patched version oflibcurladdressingCVE-2020-8169.For all other consumers of PHP, this release is functionally identical\n",
      "        to PHP 7.2.31 and no upgrade from that point release is necessary.For source downloads of PHP 7.2.32 please visit ourdownloads page,\n",
      "        Windows source and binaries can be found onwindows.php.net/download/.\n",
      "        The list of changes is recorded in theChangeLog.09 Jul 2020PHP 7.3.20 Released!The PHP development team announces the immediate availability of PHP 7.3.20.  This is a security release impacting theofficial Windows buildsof PHP.For windows users running an official build, this release contains a\n",
      "patched version oflibcurladdressingCVE-2020-8169.For all other consumers of PHP, this is a bug fix release.All PHP 7.3 users are encouraged to upgrade to this version.For source downloads of PHP 7.3.20 please visit ourdownloads page,\n",
      "Windows source and binaries can be found onwindows.php.net/download/.\n",
      "The list of changes is recorded in theChangeLog.09 Jul 2020PHP 8.0.0 Alpha 2 available for testingThe PHP team is pleased to announce the second testing release of PHP 8.0.0, Alpha 2.\n",
      "        This continues the PHP 8.0 release cycle, the rough outline of which is specified in thePHP Wiki.For source downloads of PHP 8.0.0 Alpha 2 please visit thedownload page.Please carefully test this version and report any issues found in thebug reporting system.Please DO NOT use this version in production, it is an early test version.For more information on the new features and other changes, you can read theNEWSfile,\n",
      "         or theUPGRADINGfile for a complete list of upgrading notes. These files can also be found in the release archive.The next release will be Alpha 3, planned for 23 Jul 2020.The signatures for the release can be found inthe manifestor onthe QA site.Thank you for helping us make PHP better.25 Jun 2020PHP 8.0.0 Alpha 1 available for testingThe PHP team is pleased to announce the first testing release of PHP 8.0.0, Alpha 1.\n",
      "     This starts the PHP 8.0 release cycle, the rough outline of which is specified in thePHP Wiki.For source downloads of PHP 8.0.0 Alpha 1 please visit thedownload page.Please carefully test this version and report any issues found in thebug reporting system.Please DO NOT use this version in production, it is an early test version.For more information on the new features and other changes, you can read theNEWSfile,\n",
      "      or theUPGRADINGfile for a complete list of upgrading notes. These files can also be found in the release archive.The next release will be Alpha 2, planned for 9 Jul 2020.The signatures for the release can be found inthe manifestor onthe QA site.Thank you for helping us make PHP better.11 Jun 2020PHP 7.4.7 Released!The PHP development team announces the immediate availability of PHP\n",
      "     7.4.7. This release is a bug fix release.All PHP 7.4 users are encouraged to upgrade to this version.For source downloads of PHP 7.4.7 please visit ourdownloads page,\n",
      "     Windows source and binaries can be found onwindows.php.net/download/.\n",
      "     The list of changes is recorded in theChangeLog.11 Jun 2020PHP 7.3.19 ReleasedThe PHP development team announces the immediate availability of PHP\n",
      "      7.3.19. This is a bug fix release.All PHP 7.3 users are encouraged to upgrade to this version.For source downloads of PHP 7.3.19 please visit ourdownloads page,\n",
      "      Windows source and binaries can be found onwindows.php.net/download/.\n",
      "      The list of changes is recorded in theChangeLog.14 May 2020PHP 7.4.6 Released!The PHP development team announces the immediate availability of PHP\n",
      "     7.4.6. This is a security release which also contains several bug fixes.All PHP 7.4 users are encouraged to upgrade to this version.For source downloads of PHP 7.4.6 please visit ourdownloads page,\n",
      "     Windows source and binaries can be found onwindows.php.net/download/.\n",
      "     The list of changes is recorded in theChangeLog.14 May 2020PHP 7.3.18 ReleasedThe PHP development team announces the immediate availability of PHP\n",
      "      7.3.18 This is a security release which also contains several bug fixes.All PHP 7.3 users are encouraged to upgrade to this version.For source downloads of PHP 7.3.18 please visit ourdownloads page,\n",
      "      Windows source and binaries can be found onwindows.php.net/download/.\n",
      "      The list of changes is recorded in theChangeLog.14 May 2020PHP 7.2.31 ReleasedThe PHP development team announces the immediate availability of PHP\n",
      "     7.2.31. This is a security release.All PHP 7.2 users are encouraged to upgrade to this version.For source downloads of PHP 7.2.31 please visit ourdownloads page,\n",
      "     Windows source and binaries can be found onwindows.php.net/download/.\n",
      "     The list of changes is recorded in theChangeLog.17 Apr 2020PHP 7.2.30 Release AnnouncementThe PHP development team announces the immediate availability of PHP 7.2.30.\n",
      "     This is a security release.All PHP 7.2 users are encouraged to upgrade to this version.For source downloads of PHP 7.2.30 please visit ourdownloads page,\n",
      "     Windows source and binaries can be found onwindows.php.net/download/.\n",
      "     The list of changes is recorded in theChangeLog.16 Apr 2020PHP 7.4.5 ReleasedThe PHP development team announces the immediate availability of PHP\n",
      "     7.4.5. This is a security release which also contains several bug fixes.All PHP 7.4 users are encouraged to upgrade to this version.For source downloads of PHP 7.4.5 please visit ourdownloads page,\n",
      "     Windows source and binaries can be found onwindows.php.net/download/.\n",
      "     The list of changes is recorded in theChangeLog.16 Apr 2020PHP 7.3.17 ReleasedThe PHP development team announces the immediate availability of PHP\n",
      "      7.3.17 This is a security release which also contains several bug fixes.All PHP 7.3 users are encouraged to upgrade to this version.For source downloads of PHP 7.3.17 please visit ourdownloads page,\n",
      "      Windows source and binaries can be found onwindows.php.net/download/.\n",
      "      The list of changes is recorded in theChangeLog.19 Mar 2020PHP 7.4.4 Released!The PHP development team announces the immediate availability of PHP 7.4.4.\n",
      "     This is a bug fix release.All PHP 7.4 users are encouraged to upgrade to this version.For source downloads of PHP 7.4.4 please visit ourdownloadspage Windows binaries can\n",
      "     be found on thePHP for Windowssite. The list of changes is recorded in theChangeLog.19 Mar 2020PHP 7.2.29 ReleasedThe PHP development team announces the immediate availability of PHP\n",
      "     7.2.29. This is a security release.All PHP 7.2 users are encouraged to upgrade to this version.For source downloads of PHP 7.2.29 please visit ourdownloads page,\n",
      "     Windows source and binaries can be found onwindows.php.net/download/.\n",
      "     The list of changes is recorded in theChangeLog.Older News EntriesConferences calling for papersPHP Conference Japan 2020 CFP StartedUpcoming conferencesInternational PHP Conference Munich 2020International PHP Conference Berlin 2020PHP.RUHR 2020 - Web Development & Digital CommerceUser Group EventsSpecial ThanksSocial media@official_phpCopyright © 2001-2020 The PHP GroupMy PHP.netContactOther PHP.net sitesPrivacy policy\n"
     ]
    }
   ],
   "source": [
    "soup = BeautifulSoup(html,\"html5lib\")\n",
    "text = soup.get_text(strip=True)\n",
    "\n",
    "print(text)"
   ]
  },
  {
   "cell_type": "markdown",
   "metadata": {},
   "source": [
    "**Let’s convert that text into tokens by splitting the text**"
   ]
  },
  {
   "cell_type": "code",
   "execution_count": 62,
   "metadata": {},
   "outputs": [
    {
     "name": "stdout",
     "output_type": "stream",
     "text": [
      "['PHP:', 'Hypertext', 'PreprocessorDownloadsDocumentationGet', 'InvolvedHelpGetting', 'StartedIntroductionA', 'simple', 'tutorialLanguage', 'ReferenceBasic', 'syntaxTypesVariablesConstantsExpressionsOperatorsControl', 'StructuresFunctionsClasses', 'and', 'ObjectsNamespacesErrorsExceptionsGeneratorsReferences', 'ExplainedPredefined', 'VariablesPredefined', 'ExceptionsPredefined', 'Interfaces', 'and', 'ClassesContext', 'options', 'and', 'parametersSupported', 'Protocols', 'and', 'WrappersSecurityIntroductionGeneral', 'considerationsInstalled', 'as', 'CGI', 'binaryInstalled', 'as', 'an', 'Apache', 'moduleSession', 'SecurityFilesystem', 'SecurityDatabase', 'SecurityError', 'ReportingUsing', 'Register', 'GlobalsUser', 'Submitted', 'DataMagic', 'QuotesHiding', 'PHPKeeping', 'CurrentFeaturesHTTP', 'authentication', 'with', 'PHPCookiesSessionsDealing', 'with', 'XFormsHandling', 'file', 'uploadsUsing', 'remote', 'filesConnection', 'handlingPersistent', 'Database', 'ConnectionsSafe', 'ModeCommand', 'line', 'usageGarbage', 'CollectionDTrace', 'Dynamic', 'TracingFunction', 'ReferenceAffecting', \"PHP's\", 'BehaviourAudio', 'Formats', 'ManipulationAuthentication', 'ServicesCommand', 'Line', 'Specific', 'ExtensionsCompression', 'and', 'Archive', 'ExtensionsCredit', 'Card', 'ProcessingCryptography', 'ExtensionsDatabase', 'ExtensionsDate', 'and', 'Time', 'Related', 'ExtensionsFile', 'System', 'Related', 'ExtensionsHuman', 'Language', 'and', 'Character', 'Encoding', 'SupportImage', 'Processing', 'and', 'GenerationMail', 'Related', 'ExtensionsMathematical', 'ExtensionsNon-Text', 'MIME', 'OutputProcess', 'Control', 'ExtensionsOther', 'Basic', 'ExtensionsOther', 'ServicesSearch', 'Engine', 'ExtensionsServer', 'Specific', 'ExtensionsSession', 'ExtensionsText', 'ProcessingVariable', 'and', 'Type', 'Related', 'ExtensionsWeb', 'ServicesWindows', 'Only', 'ExtensionsXML', 'ManipulationGUI', 'ExtensionsKeyboard', 'Shortcuts?This', 'helpjNext', 'menu', 'itemkPrevious', 'menu', 'itemg', 'pPrevious', 'man', 'pageg', 'nNext', 'man', 'pageGScroll', 'to', 'bottomg', 'gScroll', 'to', 'topg', 'hGoto', 'homepageg', 'sGoto', 'search(current', 'page)/Focus', 'search', 'boxPHP', 'is', 'a', 'popular', 'general-purpose', 'scripting', 'language', 'that', 'is', 'especially', 'suited', 'to', 'web', 'development.Fast,', 'flexible', 'and', 'pragmatic,', 'PHP', 'powers', 'everything', 'from', 'your', 'blog', 'to', 'the', 'most', 'popular', 'websites', 'in', 'the', 'world.Download7.4.10·Release', 'Notes·Upgrading7.3.22·Release', 'Notes·Upgrading7.2.33·Release', 'Notes·Upgrading17', 'Sep', '2020PHP', '8.0.0', 'Beta', '4', 'available', 'for', 'testingThe', 'PHP', 'team', 'is', 'pleased', 'to', 'announce', 'the', 'seventh', 'testing', 'release', 'of', 'PHP', '8.0.0,', 'Beta', '4.', 'This', 'point', 'in', 'the', 'release', 'cycle', 'would', 'normally', 'be', 'RC1,', 'however', \"we're\", 'still', 'finalizing', 'development', 'of', 'the', 'JIT', 'and', 'squaring', 'away', 'named', 'arguments,', 'so', \"we've\", 'opted', 'for', 'an', 'extra', 'beta', 'release', 'with', 'plans', 'to', 'start', 'the', 'RC', 'cycle', 'in', 'two', 'weeks.At', 'this', 'time,', \"we're\", 'not', 'planning', 'to', 'adjust', 'the', 'GA', 'date,', 'however', 'this', 'may', 'change', 'during', 'the', 'course', 'of', 'the', 'RC', 'cycle.', 'The', 'updated', 'release', 'schedule', 'can,', 'as', 'always,', 'be', 'found', 'on', 'thePHP', 'Wiki.For', 'source', 'downloads', 'of', 'PHP', '8.0.0', 'Beta', '4', 'please', 'visit', 'thedownload', 'page.Please', 'carefully', 'test', 'this', 'version', 'and', 'report', 'any', 'issues', 'found', 'in', 'thebug', 'reporting', 'system.Please', 'DO', 'NOT', 'use', 'this', 'version', 'in', 'production,', 'it', 'is', 'an', 'early', 'test', 'version.For', 'more', 'information', 'on', 'the', 'new', 'features', 'and', 'other', 'changes,', 'you', 'can', 'read', 'theNEWSfile,', 'or', 'theUPGRADINGfile', 'for', 'a', 'complete', 'list', 'of', 'upgrading', 'notes.', 'These', 'files', 'can', 'also', 'be', 'found', 'in', 'the', 'release', 'archive.The', 'next', 'release', 'will', 'be', 'the', 'Release', 'Candidate', '1,', 'planned', 'for', 'Oct', '1', '2020.The', 'signatures', 'for', 'the', 'release', 'can', 'be', 'found', 'inthe', 'manifestor', 'onthe', 'QA', 'site.Thank', 'you', 'for', 'helping', 'us', 'make', 'PHP', 'better.03', 'Sep', '2020PHP', '8.0.0', 'Beta', '3', 'available', 'for', 'testingThe', 'PHP', 'team', 'is', 'pleased', 'to', 'announce', 'the', 'sixth', 'testing', 'release', 'of', 'PHP', '8.0.0,', 'Beta', '3.', 'This', 'continues', 'the', 'PHP', '8.0', 'release', 'cycle,', 'the', 'rough', 'outline', 'of', 'which', 'is', 'specified', 'in', 'thePHP', 'Wiki.For', 'source', 'downloads', 'of', 'PHP', '8.0.0', 'Beta', '3', 'please', 'visit', 'thedownload', 'page.Please', 'carefully', 'test', 'this', 'version', 'and', 'report', 'any', 'issues', 'found', 'in', 'thebug', 'reporting', 'system.Please', 'DO', 'NOT', 'use', 'this', 'version', 'in', 'production,', 'it', 'is', 'an', 'early', 'test', 'version.For', 'more', 'information', 'on', 'the', 'new', 'features', 'and', 'other', 'changes,', 'you', 'can', 'read', 'theNEWSfile,', 'or', 'theUPGRADINGfile', 'for', 'a', 'complete', 'list', 'of', 'upgrading', 'notes.', 'These', 'files', 'can', 'also', 'be', 'found', 'in', 'the', 'release', 'archive.The', 'next', 'release', 'will', 'be', 'the', 'Release', 'Candidate', '1,', 'planned', 'for', 'Sep', '17', '2020.The', 'signatures', 'for', 'the', 'release', 'can', 'be', 'found', 'inthe', 'manifestor', 'onthe', 'QA', 'site.Thank', 'you', 'for', 'helping', 'us', 'make', 'PHP', 'better.03', 'Sep', '2020PHP', '7.4.10', 'Released!The', 'PHP', 'development', 'team', 'announces', 'the', 'immediate', 'availability', 'of', 'PHP', '7.4.10.', 'This', 'is', 'a', 'bug', 'fix', 'release.All', 'PHP', '7.4', 'users', 'are', 'encouraged', 'to', 'upgrade', 'to', 'this', 'version.For', 'source', 'downloads', 'of', 'PHP', '7.4.10', 'please', 'visit', 'ourdownloads', 'page,', 'Windows', 'source', 'and', 'binaries', 'can', 'be', 'found', 'onwindows.php.net/download/.', 'The', 'list', 'of', 'changes', 'is', 'recorded', 'in', 'theChangeLog.03', 'Sep', '2020PHP', '7.3.22', 'Released!The', 'PHP', 'development', 'team', 'announces', 'the', 'immediate', 'availability', 'of', 'PHP', '7.3.22.', 'This', 'is', 'a', 'bug', 'fix', 'release.All', 'PHP', '7.3', 'users', 'are', 'encouraged', 'to', 'upgrade', 'to', 'this', 'version.For', 'source', 'downloads', 'of', 'PHP', '7.3.22', 'please', 'visit', 'ourdownloads', 'page,', 'Windows', 'source', 'and', 'binaries', 'can', 'be', 'found', 'onwindows.php.net/download/.', 'The', 'list', 'of', 'changes', 'is', 'recorded', 'in', 'theChangeLog.21', 'Aug', '2020PHP', '8.0.0beta2', 'Released!The', 'PHP', 'team', 'is', 'pleased', 'to', 'announce', 'the', 'fifth', 'testing', 'release', 'of', 'PHP', '8.0.0,', 'Beta', '2.', 'This', 'continues', 'the', 'PHP', '8.0', 'release', 'cycle,', 'the', 'rough', 'outline', 'of', 'which', 'is', 'specified', 'in', 'thePHP', 'Wiki.For', 'source', 'downloads', 'of', 'PHP', '8.0.0', 'Beta', '2', 'please', 'visit', 'thedownload', 'page.Please', 'carefully', 'test', 'this', 'version', 'and', 'report', 'any', 'issues', 'found', 'in', 'thebug', 'reporting', 'system.Please', 'DO', 'NOT', 'use', 'this', 'version', 'in', 'production,', 'it', 'is', 'an', 'early', 'test', 'version.For', 'more', 'information', 'on', 'the', 'new', 'features', 'and', 'other', 'changes,', 'you', 'can', 'read', 'theNEWSfile,', 'or', 'theUPGRADINGfile', 'for', 'a', 'complete', 'list', 'of', 'upgrading', 'notes.', 'These', 'files', 'can', 'also', 'be', 'found', 'in', 'the', 'release', 'archive.The', 'next', 'release', 'will', 'be', 'Beta', '3,', 'planned', 'for', 'Sep', '3', '2020.The', 'signatures', 'for', 'the', 'release', 'can', 'be', 'found', 'inthe', 'manifestor', 'onthe', 'QA', 'site.Thank', 'you', 'for', 'helping', 'us', 'make', 'PHP', 'better.06', 'Aug', '2020PHP', '7.4.9', 'Released!The', 'PHP', 'development', 'team', 'announces', 'the', 'immediate', 'availability', 'of', 'PHP', '7.4.9.', 'This', 'is', 'a', 'bug', 'fix', 'release.All', 'PHP', '7.4', 'users', 'are', 'encouraged', 'to', 'upgrade', 'to', 'this', 'version.For', 'source', 'downloads', 'of', 'PHP', '7.4.9', 'please', 'visit', 'ourdownloads', 'page,', 'Windows', 'source', 'and', 'binaries', 'can', 'be', 'found', 'onwindows.php.net/download/.', 'The', 'list', 'of', 'changes', 'is', 'recorded', 'in', 'theChangeLog.06', 'Aug', '2020PHP', '8.0.0', 'Beta', '1', 'available', 'for', 'testingThe', 'PHP', 'team', 'is', 'pleased', 'to', 'announce', 'the', 'fourth', 'testing', 'release', 'of', 'PHP', '8.0.0,', 'Beta', '1.', 'This', 'continues', 'the', 'PHP', '8.0', 'release', 'cycle,', 'the', 'rough', 'outline', 'of', 'which', 'is', 'specified', 'in', 'thePHP', 'Wiki.For', 'source', 'downloads', 'of', 'PHP', '8.0.0', 'Beta', '1', 'please', 'visit', 'thedownload', 'page.Please', 'carefully', 'test', 'this', 'version', 'and', 'report', 'any', 'issues', 'found', 'in', 'thebug', 'reporting', 'system.Please', 'DO', 'NOT', 'use', 'this', 'version', 'in', 'production,', 'it', 'is', 'an', 'early', 'test', 'version.For', 'more', 'information', 'on', 'the', 'new', 'features', 'and', 'other', 'changes,', 'you', 'can', 'read', 'theNEWSfile,', 'or', 'theUPGRADINGfile', 'for', 'a', 'complete', 'list', 'of', 'upgrading', 'notes.', 'These', 'files', 'can', 'also', 'be', 'found', 'in', 'the', 'release', 'archive.The', 'next', 'release', 'will', 'be', 'Beta', '2,', 'planned', 'for', 'Aug', '20', '2020.The', 'signatures', 'for', 'the', 'release', 'can', 'be', 'found', 'inthe', 'manifestor', 'onthe', 'QA', 'site.Thank', 'you', 'for', 'helping', 'us', 'make', 'PHP', 'better.06', 'Aug', '2020PHP', '7.3.21', 'Released!The', 'PHP', 'development', 'team', 'announces', 'the', 'immediate', 'availability', 'of', 'PHP', '7.3.21.', 'This', 'is', 'a', 'security', 'release.All', 'PHP', '7.3', 'users', 'are', 'encouraged', 'to', 'upgrade', 'to', 'this', 'version.For', 'source', 'downloads', 'of', 'PHP', '7.3.21', 'please', 'visit', 'ourdownloads', 'page,', 'Windows', 'source', 'and', 'binaries', 'can', 'be', 'found', 'onwindows.php.net/download/.', 'The', 'list', 'of', 'changes', 'is', 'recorded', 'in', 'theChangeLog.06', 'Aug', '2020PHP', '7.2.33', 'Released!The', 'PHP', 'development', 'team', 'announces', 'the', 'immediate', 'availability', 'of', 'PHP', '7.2.33.', 'This', 'is', 'a', 'security', 'release.All', 'PHP', '7.2', 'users', 'are', 'encouraged', 'to', 'upgrade', 'to', 'this', 'version.For', 'source', 'downloads', 'of', 'PHP', '7.2.33', 'please', 'visit', 'ourdownloads', 'page,', 'Windows', 'source', 'and', 'binaries', 'can', 'be', 'found', 'onwindows.php.net/download/.', 'The', 'list', 'of', 'changes', 'is', 'recorded', 'in', 'theChangeLog.23', 'Jul', '2020PHP', '8.0.0', 'Alpha', '3', 'available', 'for', 'testingThe', 'PHP', 'team', 'is', 'pleased', 'to', 'announce', 'the', 'third', 'testing', 'release', 'of', 'PHP', '8.0.0,', 'Alpha', '3.', 'This', 'continues', 'the', 'PHP', '8.0', 'release', 'cycle,', 'the', 'rough', 'outline', 'of', 'which', 'is', 'specified', 'in', 'thePHP', 'Wiki.For', 'source', 'downloads', 'of', 'PHP', '8.0.0', 'Alpha', '3', 'please', 'visit', 'thedownload', 'page.Please', 'carefully', 'test', 'this', 'version', 'and', 'report', 'any', 'issues', 'found', 'in', 'thebug', 'reporting', 'system.Please', 'DO', 'NOT', 'use', 'this', 'version', 'in', 'production,', 'it', 'is', 'an', 'early', 'test', 'version.For', 'more', 'information', 'on', 'the', 'new', 'features', 'and', 'other', 'changes,', 'you', 'can', 'read', 'theNEWSfile,', 'or', 'theUPGRADINGfile', 'for', 'a', 'complete', 'list', 'of', 'upgrading', 'notes.', 'These', 'files', 'can', 'also', 'be', 'found', 'in', 'the', 'release', 'archive.The', 'next', 'release', 'will', 'be', 'Beta', '1,', 'planned', 'for', 'Aug', '06', '2020.The', 'signatures', 'for', 'the', 'release', 'can', 'be', 'found', 'inthe', 'manifestor', 'onthe', 'QA', 'site.Thank', 'you', 'for', 'helping', 'us', 'make', 'PHP', 'better.09', 'Jul', '2020PHP', '7.4.8', 'Released!The', 'PHP', 'development', 'team', 'announces', 'the', 'immediate', 'availability', 'of', 'PHP', '7.4.8.', 'This', 'is', 'a', 'security', 'release', 'impacting', 'theofficial', 'Windows', 'buildsof', 'PHP.For', 'windows', 'users', 'running', 'an', 'official', 'build,', 'this', 'release', 'contains', 'a', 'patched', 'version', 'oflibcurladdressingCVE-2020-8169.For', 'all', 'other', 'consumers', 'of', 'PHP,', 'this', 'is', 'a', 'bug', 'fix', 'release.All', 'PHP', '7.4', 'users', 'are', 'encouraged', 'to', 'upgrade', 'to', 'this', 'version.For', 'source', 'downloads', 'of', 'PHP', '7.4.8', 'please', 'visit', 'ourdownloads', 'page,', 'Windows', 'source', 'and', 'binaries', 'can', 'be', 'found', 'onwindows.php.net/download/.', 'The', 'list', 'of', 'changes', 'is', 'recorded', 'in', 'theChangeLog.09', 'Jul', '2020PHP', '7.2.32', 'Released!The', 'PHP', 'development', 'team', 'announces', 'the', 'immediate', 'availability', 'of', 'PHP', '7.2.32.', 'This', 'is', 'a', 'security', 'release', 'impacting', 'theofficial', 'Windows', 'buildsof', 'PHP.For', 'windows', 'users', 'running', 'an', 'official', 'build,', 'this', 'release', 'contains', 'a', 'patched', 'version', 'oflibcurladdressingCVE-2020-8169.For', 'all', 'other', 'consumers', 'of', 'PHP,', 'this', 'release', 'is', 'functionally', 'identical', 'to', 'PHP', '7.2.31', 'and', 'no', 'upgrade', 'from', 'that', 'point', 'release', 'is', 'necessary.For', 'source', 'downloads', 'of', 'PHP', '7.2.32', 'please', 'visit', 'ourdownloads', 'page,', 'Windows', 'source', 'and', 'binaries', 'can', 'be', 'found', 'onwindows.php.net/download/.', 'The', 'list', 'of', 'changes', 'is', 'recorded', 'in', 'theChangeLog.09', 'Jul', '2020PHP', '7.3.20', 'Released!The', 'PHP', 'development', 'team', 'announces', 'the', 'immediate', 'availability', 'of', 'PHP', '7.3.20.', 'This', 'is', 'a', 'security', 'release', 'impacting', 'theofficial', 'Windows', 'buildsof', 'PHP.For', 'windows', 'users', 'running', 'an', 'official', 'build,', 'this', 'release', 'contains', 'a', 'patched', 'version', 'oflibcurladdressingCVE-2020-8169.For', 'all', 'other', 'consumers', 'of', 'PHP,', 'this', 'is', 'a', 'bug', 'fix', 'release.All', 'PHP', '7.3', 'users', 'are', 'encouraged', 'to', 'upgrade', 'to', 'this', 'version.For', 'source', 'downloads', 'of', 'PHP', '7.3.20', 'please', 'visit', 'ourdownloads', 'page,', 'Windows', 'source', 'and', 'binaries', 'can', 'be', 'found', 'onwindows.php.net/download/.', 'The', 'list', 'of', 'changes', 'is', 'recorded', 'in', 'theChangeLog.09', 'Jul', '2020PHP', '8.0.0', 'Alpha', '2', 'available', 'for', 'testingThe', 'PHP', 'team', 'is', 'pleased', 'to', 'announce', 'the', 'second', 'testing', 'release', 'of', 'PHP', '8.0.0,', 'Alpha', '2.', 'This', 'continues', 'the', 'PHP', '8.0', 'release', 'cycle,', 'the', 'rough', 'outline', 'of', 'which', 'is', 'specified', 'in', 'thePHP', 'Wiki.For', 'source', 'downloads', 'of', 'PHP', '8.0.0', 'Alpha', '2', 'please', 'visit', 'thedownload', 'page.Please', 'carefully', 'test', 'this', 'version', 'and', 'report', 'any', 'issues', 'found', 'in', 'thebug', 'reporting', 'system.Please', 'DO', 'NOT', 'use', 'this', 'version', 'in', 'production,', 'it', 'is', 'an', 'early', 'test', 'version.For', 'more', 'information', 'on', 'the', 'new', 'features', 'and', 'other', 'changes,', 'you', 'can', 'read', 'theNEWSfile,', 'or', 'theUPGRADINGfile', 'for', 'a', 'complete', 'list', 'of', 'upgrading', 'notes.', 'These', 'files', 'can', 'also', 'be', 'found', 'in', 'the', 'release', 'archive.The', 'next', 'release', 'will', 'be', 'Alpha', '3,', 'planned', 'for', '23', 'Jul', '2020.The', 'signatures', 'for', 'the', 'release', 'can', 'be', 'found', 'inthe', 'manifestor', 'onthe', 'QA', 'site.Thank', 'you', 'for', 'helping', 'us', 'make', 'PHP', 'better.25', 'Jun', '2020PHP', '8.0.0', 'Alpha', '1', 'available', 'for', 'testingThe', 'PHP', 'team', 'is', 'pleased', 'to', 'announce', 'the', 'first', 'testing', 'release', 'of', 'PHP', '8.0.0,', 'Alpha', '1.', 'This', 'starts', 'the', 'PHP', '8.0', 'release', 'cycle,', 'the', 'rough', 'outline', 'of', 'which', 'is', 'specified', 'in', 'thePHP', 'Wiki.For', 'source', 'downloads', 'of', 'PHP', '8.0.0', 'Alpha', '1', 'please', 'visit', 'thedownload', 'page.Please', 'carefully', 'test', 'this', 'version', 'and', 'report', 'any', 'issues', 'found', 'in', 'thebug', 'reporting', 'system.Please', 'DO', 'NOT', 'use', 'this', 'version', 'in', 'production,', 'it', 'is', 'an', 'early', 'test', 'version.For', 'more', 'information', 'on', 'the', 'new', 'features', 'and', 'other', 'changes,', 'you', 'can', 'read', 'theNEWSfile,', 'or', 'theUPGRADINGfile', 'for', 'a', 'complete', 'list', 'of', 'upgrading', 'notes.', 'These', 'files', 'can', 'also', 'be', 'found', 'in', 'the', 'release', 'archive.The', 'next', 'release', 'will', 'be', 'Alpha', '2,', 'planned', 'for', '9', 'Jul', '2020.The', 'signatures', 'for', 'the', 'release', 'can', 'be', 'found', 'inthe', 'manifestor', 'onthe', 'QA', 'site.Thank', 'you', 'for', 'helping', 'us', 'make', 'PHP', 'better.11', 'Jun', '2020PHP', '7.4.7', 'Released!The', 'PHP', 'development', 'team', 'announces', 'the', 'immediate', 'availability', 'of', 'PHP', '7.4.7.', 'This', 'release', 'is', 'a', 'bug', 'fix', 'release.All', 'PHP', '7.4', 'users', 'are', 'encouraged', 'to', 'upgrade', 'to', 'this', 'version.For', 'source', 'downloads', 'of', 'PHP', '7.4.7', 'please', 'visit', 'ourdownloads', 'page,', 'Windows', 'source', 'and', 'binaries', 'can', 'be', 'found', 'onwindows.php.net/download/.', 'The', 'list', 'of', 'changes', 'is', 'recorded', 'in', 'theChangeLog.11', 'Jun', '2020PHP', '7.3.19', 'ReleasedThe', 'PHP', 'development', 'team', 'announces', 'the', 'immediate', 'availability', 'of', 'PHP', '7.3.19.', 'This', 'is', 'a', 'bug', 'fix', 'release.All', 'PHP', '7.3', 'users', 'are', 'encouraged', 'to', 'upgrade', 'to', 'this', 'version.For', 'source', 'downloads', 'of', 'PHP', '7.3.19', 'please', 'visit', 'ourdownloads', 'page,', 'Windows', 'source', 'and', 'binaries', 'can', 'be', 'found', 'onwindows.php.net/download/.', 'The', 'list', 'of', 'changes', 'is', 'recorded', 'in', 'theChangeLog.14', 'May', '2020PHP', '7.4.6', 'Released!The', 'PHP', 'development', 'team', 'announces', 'the', 'immediate', 'availability', 'of', 'PHP', '7.4.6.', 'This', 'is', 'a', 'security', 'release', 'which', 'also', 'contains', 'several', 'bug', 'fixes.All', 'PHP', '7.4', 'users', 'are', 'encouraged', 'to', 'upgrade', 'to', 'this', 'version.For', 'source', 'downloads', 'of', 'PHP', '7.4.6', 'please', 'visit', 'ourdownloads', 'page,', 'Windows', 'source', 'and', 'binaries', 'can', 'be', 'found', 'onwindows.php.net/download/.', 'The', 'list', 'of', 'changes', 'is', 'recorded', 'in', 'theChangeLog.14', 'May', '2020PHP', '7.3.18', 'ReleasedThe', 'PHP', 'development', 'team', 'announces', 'the', 'immediate', 'availability', 'of', 'PHP', '7.3.18', 'This', 'is', 'a', 'security', 'release', 'which', 'also', 'contains', 'several', 'bug', 'fixes.All', 'PHP', '7.3', 'users', 'are', 'encouraged', 'to', 'upgrade', 'to', 'this', 'version.For', 'source', 'downloads', 'of', 'PHP', '7.3.18', 'please', 'visit', 'ourdownloads', 'page,', 'Windows', 'source', 'and', 'binaries', 'can', 'be', 'found', 'onwindows.php.net/download/.', 'The', 'list', 'of', 'changes', 'is', 'recorded', 'in', 'theChangeLog.14', 'May', '2020PHP', '7.2.31', 'ReleasedThe', 'PHP', 'development', 'team', 'announces', 'the', 'immediate', 'availability', 'of', 'PHP', '7.2.31.', 'This', 'is', 'a', 'security', 'release.All', 'PHP', '7.2', 'users', 'are', 'encouraged', 'to', 'upgrade', 'to', 'this', 'version.For', 'source', 'downloads', 'of', 'PHP', '7.2.31', 'please', 'visit', 'ourdownloads', 'page,', 'Windows', 'source', 'and', 'binaries', 'can', 'be', 'found', 'onwindows.php.net/download/.', 'The', 'list', 'of', 'changes', 'is', 'recorded', 'in', 'theChangeLog.17', 'Apr', '2020PHP', '7.2.30', 'Release', 'AnnouncementThe', 'PHP', 'development', 'team', 'announces', 'the', 'immediate', 'availability', 'of', 'PHP', '7.2.30.', 'This', 'is', 'a', 'security', 'release.All', 'PHP', '7.2', 'users', 'are', 'encouraged', 'to', 'upgrade', 'to', 'this', 'version.For', 'source', 'downloads', 'of', 'PHP', '7.2.30', 'please', 'visit', 'ourdownloads', 'page,', 'Windows', 'source', 'and', 'binaries', 'can', 'be', 'found', 'onwindows.php.net/download/.', 'The', 'list', 'of', 'changes', 'is', 'recorded', 'in', 'theChangeLog.16', 'Apr', '2020PHP', '7.4.5', 'ReleasedThe', 'PHP', 'development', 'team', 'announces', 'the', 'immediate', 'availability', 'of', 'PHP', '7.4.5.', 'This', 'is', 'a', 'security', 'release', 'which', 'also', 'contains', 'several', 'bug', 'fixes.All', 'PHP', '7.4', 'users', 'are', 'encouraged', 'to', 'upgrade', 'to', 'this', 'version.For', 'source', 'downloads', 'of', 'PHP', '7.4.5', 'please', 'visit', 'ourdownloads', 'page,', 'Windows', 'source', 'and', 'binaries', 'can', 'be', 'found', 'onwindows.php.net/download/.', 'The', 'list', 'of', 'changes', 'is', 'recorded', 'in', 'theChangeLog.16', 'Apr', '2020PHP', '7.3.17', 'ReleasedThe', 'PHP', 'development', 'team', 'announces', 'the', 'immediate', 'availability', 'of', 'PHP', '7.3.17', 'This', 'is', 'a', 'security', 'release', 'which', 'also', 'contains', 'several', 'bug', 'fixes.All', 'PHP', '7.3', 'users', 'are', 'encouraged', 'to', 'upgrade', 'to', 'this', 'version.For', 'source', 'downloads', 'of', 'PHP', '7.3.17', 'please', 'visit', 'ourdownloads', 'page,', 'Windows', 'source', 'and', 'binaries', 'can', 'be', 'found', 'onwindows.php.net/download/.', 'The', 'list', 'of', 'changes', 'is', 'recorded', 'in', 'theChangeLog.19', 'Mar', '2020PHP', '7.4.4', 'Released!The', 'PHP', 'development', 'team', 'announces', 'the', 'immediate', 'availability', 'of', 'PHP', '7.4.4.', 'This', 'is', 'a', 'bug', 'fix', 'release.All', 'PHP', '7.4', 'users', 'are', 'encouraged', 'to', 'upgrade', 'to', 'this', 'version.For', 'source', 'downloads', 'of', 'PHP', '7.4.4', 'please', 'visit', 'ourdownloadspage', 'Windows', 'binaries', 'can', 'be', 'found', 'on', 'thePHP', 'for', 'Windowssite.', 'The', 'list', 'of', 'changes', 'is', 'recorded', 'in', 'theChangeLog.19', 'Mar', '2020PHP', '7.2.29', 'ReleasedThe', 'PHP', 'development', 'team', 'announces', 'the', 'immediate', 'availability', 'of', 'PHP', '7.2.29.', 'This', 'is', 'a', 'security', 'release.All', 'PHP', '7.2', 'users', 'are', 'encouraged', 'to', 'upgrade', 'to', 'this', 'version.For', 'source', 'downloads', 'of', 'PHP', '7.2.29', 'please', 'visit', 'ourdownloads', 'page,', 'Windows', 'source', 'and', 'binaries', 'can', 'be', 'found', 'onwindows.php.net/download/.', 'The', 'list', 'of', 'changes', 'is', 'recorded', 'in', 'theChangeLog.Older', 'News', 'EntriesConferences', 'calling', 'for', 'papersPHP', 'Conference', 'Japan', '2020', 'CFP', 'StartedUpcoming', 'conferencesInternational', 'PHP', 'Conference', 'Munich', '2020International', 'PHP', 'Conference', 'Berlin', '2020PHP.RUHR', '2020', '-', 'Web', 'Development', '&', 'Digital', 'CommerceUser', 'Group', 'EventsSpecial', 'ThanksSocial', 'media@official_phpCopyright', '©', '2001-2020', 'The', 'PHP', 'GroupMy', 'PHP.netContactOther', 'PHP.net', 'sitesPrivacy', 'policy']\n"
     ]
    }
   ],
   "source": [
    "tokens = [t for t in text.split()]\n",
    "print(tokens)"
   ]
  },
  {
   "cell_type": "markdown",
   "metadata": {},
   "source": [
    "**Count word frequency**"
   ]
  },
  {
   "cell_type": "code",
   "execution_count": 63,
   "metadata": {},
   "outputs": [
    {
     "name": "stdout",
     "output_type": "stream",
     "text": [
      "PHP::1\n",
      "Hypertext:1\n",
      "PreprocessorDownloadsDocumentationGet:1\n",
      "InvolvedHelpGetting:1\n",
      "StartedIntroductionA:1\n",
      "simple:1\n",
      "tutorialLanguage:1\n",
      "ReferenceBasic:1\n",
      "syntaxTypesVariablesConstantsExpressionsOperatorsControl:1\n",
      "StructuresFunctionsClasses:1\n",
      "and:43\n",
      "ObjectsNamespacesErrorsExceptionsGeneratorsReferences:1\n",
      "ExplainedPredefined:1\n",
      "VariablesPredefined:1\n",
      "ExceptionsPredefined:1\n",
      "Interfaces:1\n",
      "ClassesContext:1\n",
      "options:1\n",
      "parametersSupported:1\n",
      "Protocols:1\n",
      "WrappersSecurityIntroductionGeneral:1\n",
      "considerationsInstalled:1\n",
      "as:3\n",
      "CGI:1\n",
      "binaryInstalled:1\n",
      "an:12\n",
      "Apache:1\n",
      "moduleSession:1\n",
      "SecurityFilesystem:1\n",
      "SecurityDatabase:1\n",
      "SecurityError:1\n",
      "ReportingUsing:1\n",
      "Register:1\n",
      "GlobalsUser:1\n",
      "Submitted:1\n",
      "DataMagic:1\n",
      "QuotesHiding:1\n",
      "PHPKeeping:1\n",
      "CurrentFeaturesHTTP:1\n",
      "authentication:1\n",
      "with:3\n",
      "PHPCookiesSessionsDealing:1\n",
      "XFormsHandling:1\n",
      "file:1\n",
      "uploadsUsing:1\n",
      "remote:1\n",
      "filesConnection:1\n",
      "handlingPersistent:1\n",
      "Database:1\n",
      "ConnectionsSafe:1\n",
      "ModeCommand:1\n",
      "line:1\n",
      "usageGarbage:1\n",
      "CollectionDTrace:1\n",
      "Dynamic:1\n",
      "TracingFunction:1\n",
      "ReferenceAffecting:1\n",
      "PHP's:1\n",
      "BehaviourAudio:1\n",
      "Formats:1\n",
      "ManipulationAuthentication:1\n",
      "ServicesCommand:1\n",
      "Line:1\n",
      "Specific:2\n",
      "ExtensionsCompression:1\n",
      "Archive:1\n",
      "ExtensionsCredit:1\n",
      "Card:1\n",
      "ProcessingCryptography:1\n",
      "ExtensionsDatabase:1\n",
      "ExtensionsDate:1\n",
      "Time:1\n",
      "Related:4\n",
      "ExtensionsFile:1\n",
      "System:1\n",
      "ExtensionsHuman:1\n",
      "Language:1\n",
      "Character:1\n",
      "Encoding:1\n",
      "SupportImage:1\n",
      "Processing:1\n",
      "GenerationMail:1\n",
      "ExtensionsMathematical:1\n",
      "ExtensionsNon-Text:1\n",
      "MIME:1\n",
      "OutputProcess:1\n",
      "Control:1\n",
      "ExtensionsOther:2\n",
      "Basic:1\n",
      "ServicesSearch:1\n",
      "Engine:1\n",
      "ExtensionsServer:1\n",
      "ExtensionsSession:1\n",
      "ExtensionsText:1\n",
      "ProcessingVariable:1\n",
      "Type:1\n",
      "ExtensionsWeb:1\n",
      "ServicesWindows:1\n",
      "Only:1\n",
      "ExtensionsXML:1\n",
      "ManipulationGUI:1\n",
      "ExtensionsKeyboard:1\n",
      "Shortcuts?This:1\n",
      "helpjNext:1\n",
      "menu:2\n",
      "itemkPrevious:1\n",
      "itemg:1\n",
      "pPrevious:1\n",
      "man:2\n",
      "pageg:1\n",
      "nNext:1\n",
      "pageGScroll:1\n",
      "to:48\n",
      "bottomg:1\n",
      "gScroll:1\n",
      "topg:1\n",
      "hGoto:1\n",
      "homepageg:1\n",
      "sGoto:1\n",
      "search(current:1\n",
      "page)/Focus:1\n",
      "search:1\n",
      "boxPHP:1\n",
      "is:62\n",
      "a:31\n",
      "popular:2\n",
      "general-purpose:1\n",
      "scripting:1\n",
      "language:1\n",
      "that:2\n",
      "especially:1\n",
      "suited:1\n",
      "web:1\n",
      "development.Fast,:1\n",
      "flexible:1\n",
      "pragmatic,:1\n",
      "PHP:110\n",
      "powers:1\n",
      "everything:1\n",
      "from:2\n",
      "your:1\n",
      "blog:1\n",
      "the:68\n",
      "most:1\n",
      "websites:1\n",
      "in:48\n",
      "world.Download7.4.10·Release:1\n",
      "Notes·Upgrading7.3.22·Release:1\n",
      "Notes·Upgrading7.2.33·Release:1\n",
      "Notes·Upgrading17:1\n",
      "Sep:6\n",
      "2020PHP:25\n",
      "8.0.0:13\n",
      "Beta:14\n",
      "4:2\n",
      "available:6\n",
      "for:37\n",
      "testingThe:6\n",
      "team:25\n",
      "pleased:7\n",
      "announce:7\n",
      "seventh:1\n",
      "testing:7\n",
      "release:50\n",
      "of:86\n",
      "8.0.0,:7\n",
      "4.:1\n",
      "This:25\n",
      "point:2\n",
      "cycle:2\n",
      "would:1\n",
      "normally:1\n",
      "be:41\n",
      "RC1,:1\n",
      "however:2\n",
      "we're:2\n",
      "still:1\n",
      "finalizing:1\n",
      "development:19\n",
      "JIT:1\n",
      "squaring:1\n",
      "away:1\n",
      "named:1\n",
      "arguments,:1\n",
      "so:1\n",
      "we've:1\n",
      "opted:1\n",
      "extra:1\n",
      "beta:1\n",
      "plans:1\n",
      "start:1\n",
      "RC:2\n",
      "two:1\n",
      "weeks.At:1\n",
      "this:39\n",
      "time,:1\n",
      "not:1\n",
      "planning:1\n",
      "adjust:1\n",
      "GA:1\n",
      "date,:1\n",
      "may:1\n",
      "change:1\n",
      "during:1\n",
      "course:1\n",
      "cycle.:1\n",
      "The:20\n",
      "updated:1\n",
      "schedule:1\n",
      "can,:1\n",
      "always,:1\n",
      "found:40\n",
      "on:9\n",
      "thePHP:8\n",
      "Wiki.For:7\n",
      "source:42\n",
      "downloads:25\n",
      "please:25\n",
      "visit:25\n",
      "thedownload:7\n",
      "page.Please:7\n",
      "carefully:7\n",
      "test:14\n",
      "version:17\n",
      "report:7\n",
      "any:7\n",
      "issues:7\n",
      "thebug:7\n",
      "reporting:7\n",
      "system.Please:7\n",
      "DO:7\n",
      "NOT:7\n",
      "use:7\n",
      "production,:7\n",
      "it:7\n",
      "early:7\n",
      "version.For:24\n",
      "more:7\n",
      "information:7\n",
      "new:7\n",
      "features:7\n",
      "other:10\n",
      "changes,:7\n",
      "you:14\n",
      "can:39\n",
      "read:7\n",
      "theNEWSfile,:7\n",
      "or:7\n",
      "theUPGRADINGfile:7\n",
      "complete:7\n",
      "list:25\n",
      "upgrading:7\n",
      "notes.:7\n",
      "These:7\n",
      "files:7\n",
      "also:11\n",
      "archive.The:7\n",
      "next:7\n",
      "will:7\n",
      "Release:3\n",
      "Candidate:2\n",
      "1,:3\n",
      "planned:7\n",
      "Oct:1\n",
      "1:5\n",
      "2020.The:7\n",
      "signatures:7\n",
      "inthe:7\n",
      "manifestor:7\n",
      "onthe:7\n",
      "QA:7\n",
      "site.Thank:7\n",
      "helping:7\n",
      "us:7\n",
      "make:7\n",
      "better.03:2\n",
      "3:5\n",
      "sixth:1\n",
      "3.:2\n",
      "continues:5\n",
      "8.0:6\n",
      "cycle,:6\n",
      "rough:6\n",
      "outline:6\n",
      "which:10\n",
      "specified:6\n",
      "17:1\n",
      "7.4.10:2\n",
      "Released!The:12\n",
      "announces:18\n",
      "immediate:18\n",
      "availability:18\n",
      "7.4.10.:1\n",
      "bug:12\n",
      "fix:8\n",
      "release.All:13\n",
      "7.4:7\n",
      "users:20\n",
      "are:17\n",
      "encouraged:17\n",
      "upgrade:18\n",
      "ourdownloads:17\n",
      "page,:17\n",
      "Windows:21\n",
      "binaries:18\n",
      "onwindows.php.net/download/.:17\n",
      "changes:18\n",
      "recorded:18\n",
      "theChangeLog.03:1\n",
      "7.3.22:2\n",
      "7.3.22.:1\n",
      "7.3:6\n",
      "theChangeLog.21:1\n",
      "Aug:7\n",
      "8.0.0beta2:1\n",
      "fifth:1\n",
      "2.:2\n",
      "2:3\n",
      "3,:2\n",
      "better.06:2\n",
      "7.4.9:2\n",
      "7.4.9.:1\n",
      "theChangeLog.06:2\n",
      "fourth:1\n",
      "1.:2\n",
      "2,:2\n",
      "20:1\n",
      "7.3.21:2\n",
      "7.3.21.:1\n",
      "security:12\n",
      "7.2.33:2\n",
      "7.2.33.:1\n",
      "7.2:4\n",
      "theChangeLog.23:1\n",
      "Jul:7\n",
      "Alpha:11\n",
      "third:1\n",
      "06:1\n",
      "better.09:1\n",
      "7.4.8:2\n",
      "7.4.8.:1\n",
      "impacting:3\n",
      "theofficial:3\n",
      "buildsof:3\n",
      "PHP.For:3\n",
      "windows:3\n",
      "running:3\n",
      "official:3\n",
      "build,:3\n",
      "contains:7\n",
      "patched:3\n",
      "oflibcurladdressingCVE-2020-8169.For:3\n",
      "all:3\n",
      "consumers:3\n",
      "PHP,:3\n",
      "theChangeLog.09:3\n",
      "7.2.32:2\n",
      "7.2.32.:1\n",
      "functionally:1\n",
      "identical:1\n",
      "7.2.31:3\n",
      "no:1\n",
      "necessary.For:1\n",
      "7.3.20:2\n",
      "7.3.20.:1\n",
      "second:1\n",
      "23:1\n",
      "better.25:1\n",
      "Jun:3\n",
      "first:1\n",
      "starts:1\n",
      "9:1\n",
      "better.11:1\n",
      "7.4.7:2\n",
      "7.4.7.:1\n",
      "theChangeLog.11:1\n",
      "7.3.19:2\n",
      "ReleasedThe:6\n",
      "7.3.19.:1\n",
      "theChangeLog.14:3\n",
      "May:3\n",
      "7.4.6:2\n",
      "7.4.6.:1\n",
      "several:4\n",
      "fixes.All:4\n",
      "7.3.18:3\n",
      "7.2.31.:1\n",
      "theChangeLog.17:1\n",
      "Apr:3\n",
      "7.2.30:2\n",
      "AnnouncementThe:1\n",
      "7.2.30.:1\n",
      "theChangeLog.16:2\n",
      "7.4.5:2\n",
      "7.4.5.:1\n",
      "7.3.17:3\n",
      "theChangeLog.19:2\n",
      "Mar:2\n",
      "7.4.4:2\n",
      "7.4.4.:1\n",
      "ourdownloadspage:1\n",
      "Windowssite.:1\n",
      "7.2.29:2\n",
      "7.2.29.:1\n",
      "theChangeLog.Older:1\n",
      "News:1\n",
      "EntriesConferences:1\n",
      "calling:1\n",
      "papersPHP:1\n",
      "Conference:3\n",
      "Japan:1\n",
      "2020:2\n",
      "CFP:1\n",
      "StartedUpcoming:1\n",
      "conferencesInternational:1\n",
      "Munich:1\n",
      "2020International:1\n",
      "Berlin:1\n",
      "2020PHP.RUHR:1\n",
      "-:1\n",
      "Web:1\n",
      "Development:1\n",
      "&:1\n",
      "Digital:1\n",
      "CommerceUser:1\n",
      "Group:1\n",
      "EventsSpecial:1\n",
      "ThanksSocial:1\n",
      "media@official_phpCopyright:1\n",
      "©:1\n",
      "2001-2020:1\n",
      "GroupMy:1\n",
      "PHP.netContactOther:1\n",
      "PHP.net:1\n",
      "sitesPrivacy:1\n",
      "policy:1\n"
     ]
    }
   ],
   "source": [
    "freq = nltk.FreqDist(tokens)\n",
    "\n",
    "for key,val in freq.items():\n",
    "    print (str(key) + ':' + str(val))"
   ]
  },
  {
   "cell_type": "code",
   "execution_count": 64,
   "metadata": {},
   "outputs": [
    {
     "data": {
      "image/png": "[encoded data removed]",
      "text/plain": [
       "<Figure size 432x288 with 1 Axes>"
      ]
     },
     "metadata": {
      "needs_background": "light"
     },
     "output_type": "display_data"
    },
    {
     "data": {
      "text/plain": [
       "<matplotlib.axes._subplots.AxesSubplot at 0x20aefc82e20>"
      ]
     },
     "execution_count": 64,
     "metadata": {},
     "output_type": "execute_result"
    }
   ],
   "source": [
    "# Plot a graph for those tokens using plot function\n",
    "freq.plot(20, cumulative=False)"
   ]
  },
  {
   "cell_type": "code",
   "execution_count": 66,
   "metadata": {},
   "outputs": [
    {
     "name": "stdout",
     "output_type": "stream",
     "text": [
      "['i', 'me', 'my', 'myself', 'we', 'our', 'ours', 'ourselves', 'you', \"you're\", \"you've\", \"you'll\", \"you'd\", 'your', 'yours', 'yourself', 'yourselves', 'he', 'him', 'his', 'himself', 'she', \"she's\", 'her', 'hers', 'herself', 'it', \"it's\", 'its', 'itself', 'they', 'them', 'their', 'theirs', 'themselves', 'what', 'which', 'who', 'whom', 'this', 'that', \"that'll\", 'these', 'those', 'am', 'is', 'are', 'was', 'were', 'be', 'been', 'being', 'have', 'has', 'had', 'having', 'do', 'does', 'did', 'doing', 'a', 'an', 'the', 'and', 'but', 'if', 'or', 'because', 'as', 'until', 'while', 'of', 'at', 'by', 'for', 'with', 'about', 'against', 'between', 'into', 'through', 'during', 'before', 'after', 'above', 'below', 'to', 'from', 'up', 'down', 'in', 'out', 'on', 'off', 'over', 'under', 'again', 'further', 'then', 'once', 'here', 'there', 'when', 'where', 'why', 'how', 'all', 'any', 'both', 'each', 'few', 'more', 'most', 'other', 'some', 'such', 'no', 'nor', 'not', 'only', 'own', 'same', 'so', 'than', 'too', 'very', 's', 't', 'can', 'will', 'just', 'don', \"don't\", 'should', \"should've\", 'now', 'd', 'll', 'm', 'o', 're', 've', 'y', 'ain', 'aren', \"aren't\", 'couldn', \"couldn't\", 'didn', \"didn't\", 'doesn', \"doesn't\", 'hadn', \"hadn't\", 'hasn', \"hasn't\", 'haven', \"haven't\", 'isn', \"isn't\", 'ma', 'mightn', \"mightn't\", 'mustn', \"mustn't\", 'needn', \"needn't\", 'shan', \"shan't\", 'shouldn', \"shouldn't\", 'wasn', \"wasn't\", 'weren', \"weren't\", 'won', \"won't\", 'wouldn', \"wouldn't\"]"
     ]
    }
   ],
   "source": [
    "# Remove stop words using NLTK\n",
    "# NLTK comes with stop words lists for most languages. Lets get English stop words\n",
    "\n",
    "print(stopwords.words('english'), end='')\n",
    "\n",
    "# We can add or remove stopwords from the above list"
   ]
  },
  {
   "cell_type": "code",
   "execution_count": 67,
   "metadata": {},
   "outputs": [],
   "source": [
    "# Let’s modify our code and clean the tokens before plotting the graph\n",
    "# We will make a copy of the list and then we will iterate over the tokens and remove the stop words\n",
    "\n",
    "clean_tokens = tokens[:]\n",
    "sr = stopwords.words('english')\n",
    "\n",
    "for token in tokens:\n",
    "    if token in stopwords.words('english'):\n",
    "        clean_tokens.remove(token)"
   ]
  },
  {
   "cell_type": "code",
   "execution_count": 68,
   "metadata": {},
   "outputs": [
    {
     "data": {
      "image/png": "[encoded data removed]",
      "text/plain": [
       "<Figure size 432x288 with 1 Axes>"
      ]
     },
     "metadata": {
      "needs_background": "light"
     },
     "output_type": "display_data"
    },
    {
     "data": {
      "text/plain": [
       "<matplotlib.axes._subplots.AxesSubplot at 0x20ae27bdc10>"
      ]
     },
     "execution_count": 68,
     "metadata": {},
     "output_type": "execute_result"
    }
   ],
   "source": [
    "# Lets re-do the frequency plot\n",
    "freq.plot(20,cumulative=False)"
   ]
  },
  {
   "cell_type": "markdown",
   "metadata": {},
   "source": [
    "**Tokenization using NLTK**"
   ]
  },
  {
   "cell_type": "code",
   "execution_count": 70,
   "metadata": {},
   "outputs": [
    {
     "name": "stderr",
     "output_type": "stream",
     "text": [
      "[nltk_data] Downloading package punkt to\n",
      "[nltk_data]     C:\\Users\\Administrator\\AppData\\Roaming\\nltk_data...\n",
      "[nltk_data]   Unzipping tokenizers\\punkt.zip.\n"
     ]
    },
    {
     "data": {
      "text/plain": [
       "True"
      ]
     },
     "execution_count": 70,
     "metadata": {},
     "output_type": "execute_result"
    },
    {
     "name": "stdout",
     "output_type": "stream",
     "text": [
      "['Hello Adam, how are you?', 'I hope everything is going well.', 'Today is a good day, see you dude.']\n"
     ]
    }
   ],
   "source": [
    "mytext = \"Hello Adam, how are you? I hope everything is going well. Today is a good day, see you dude.\"\n",
    "print(sent_tokenize(mytext))"
   ]
  },
  {
   "cell_type": "code",
   "execution_count": 72,
   "metadata": {},
   "outputs": [
    {
     "name": "stdout",
     "output_type": "stream",
     "text": [
      "['Hello', 'Mr.', 'Adam', ',', 'how', 'are', 'you', '?', 'I', 'hope', 'everything', 'is', 'going', 'well', '.', 'Today', 'is', 'a', 'good', 'day', ',', 'see', 'you', 'dude', '.']\n"
     ]
    }
   ],
   "source": [
    "# Lets use work tokenizer this time to see the results\n",
    "mytext = \"Hello Mr. Adam, how are you? I hope everything is going well. Today is a good day, see you dude.\"\n",
    "print(word_tokenize(mytext))"
   ]
  },
  {
   "cell_type": "markdown",
   "metadata": {},
   "source": [
    "**WORDNET**"
   ]
  },
  {
   "cell_type": "code",
   "execution_count": 73,
   "metadata": {},
   "outputs": [
    {
     "name": "stdout",
     "output_type": "stream",
     "text": [
      "a symptom of some physical hurt or disorder\n",
      "['the patient developed severe pain and distension']\n"
     ]
    }
   ],
   "source": [
    "# Lets find the definition and examples of an English word\n",
    "syn = wordnet.synsets(\"pain\")\n",
    "print(syn[0].definition())\n",
    "print(syn[0].examples())"
   ]
  },
  {
   "cell_type": "code",
   "execution_count": 74,
   "metadata": {},
   "outputs": [
    {
     "name": "stdout",
     "output_type": "stream",
     "text": [
      "['computer', 'computing_machine', 'computing_device', 'data_processor', 'electronic_computer', 'information_processing_system', 'calculator', 'reckoner', 'figurer', 'estimator', 'computer']\n"
     ]
    }
   ],
   "source": [
    "# Can use WordNet to get synonymous words\n",
    "synonyms = []\n",
    "\n",
    "for syn in wordnet.synsets('Computer'):\n",
    "    for lemma in syn.lemmas():\n",
    "        synonyms.append(lemma.name())\n",
    "\n",
    "print(synonyms)"
   ]
  },
  {
   "cell_type": "code",
   "execution_count": 75,
   "metadata": {},
   "outputs": [
    {
     "name": "stdout",
     "output_type": "stream",
     "text": [
      "['large', 'big', 'big']\n"
     ]
    }
   ],
   "source": [
    "# Get antonyms\n",
    "antonyms = []\n",
    "\n",
    "for syn in wordnet.synsets(\"small\"):\n",
    "    for l in syn.lemmas():\n",
    "        if l.antonyms():\n",
    "            antonyms.append(l.antonyms()[0].name())\n",
    "\n",
    "print(antonyms)"
   ]
  },
  {
   "cell_type": "code",
   "execution_count": null,
   "metadata": {},
   "outputs": [],
   "source": []
  },
  {
   "cell_type": "code",
   "execution_count": null,
   "metadata": {},
   "outputs": [],
   "source": []
  },
  {
   "cell_type": "code",
   "execution_count": null,
   "metadata": {},
   "outputs": [],
   "source": []
  },
  {
   "cell_type": "markdown",
   "metadata": {},
   "source": [
    "**`The goal of this activity will be to count how many adjectives and nouns appear in the positive subset of the twitter_samples corpus`**"
   ]
  },
  {
   "cell_type": "code",
   "execution_count": null,
   "metadata": {},
   "outputs": [
    {
     "name": "stderr",
     "output_type": "stream",
     "text": [
      "[nltk_data] Downloading package twitter_samples to\n",
      "[nltk_data]     C:\\Users\\Administrator\\AppData\\Roaming\\nltk_data...\n"
     ]
    }
   ],
   "source": [
    "import nltk\n",
    "nltk.download('twitter_samples')\n",
    "from nltk.corpus import twitter_samples"
   ]
  },
  {
   "cell_type": "code",
   "execution_count": 53,
   "metadata": {},
   "outputs": [
    {
     "data": {
      "text/plain": [
       "['negative_tweets.json', 'positive_tweets.json', 'tweets.20150430-223406.json']"
      ]
     },
     "execution_count": 53,
     "metadata": {},
     "output_type": "execute_result"
    }
   ],
   "source": [
    "twitter_samples.fileids()\n",
    "tweets = twitter_samples.strings('positive_tweets.json')"
   ]
  },
  {
   "cell_type": "markdown",
   "metadata": {},
   "source": [
    "- When we first load our list of tweets, each tweet is represented as one string\n",
    "- Before we can determine which words in our tweets are adjectives or nouns, we first need to tokenize our tweets\n",
    "- Tokenization is the act of breaking up a sequence of strings into pieces such as words, keywords, phrases, symbols and other elements, which are called tokens"
   ]
  },
  {
   "cell_type": "code",
   "execution_count": 54,
   "metadata": {},
   "outputs": [],
   "source": [
    "# This new variable, tweets_tokens, is a list where each element in the list is a list of tokens\n",
    "# Now that we have the tokens of each tweet we can tag the tokens with the appropriate POS tags\n",
    "tweets_tokens = twitter_samples.tokenized('positive_tweets.json')"
   ]
  },
  {
   "cell_type": "code",
   "execution_count": 56,
   "metadata": {},
   "outputs": [
    {
     "data": {
      "text/plain": [
       "[('#FollowFriday', 'JJ'),\n",
       " ('@France_Inte', 'NNP'),\n",
       " ('@PKuchly57', 'NNP'),\n",
       " ('@Milipol_Paris', 'NNP'),\n",
       " ('for', 'IN'),\n",
       " ('being', 'VBG'),\n",
       " ('top', 'JJ'),\n",
       " ('engaged', 'VBN'),\n",
       " ('members', 'NNS'),\n",
       " ('in', 'IN'),\n",
       " ('my', 'PRP$'),\n",
       " ('community', 'NN'),\n",
       " ('this', 'DT'),\n",
       " ('week', 'NN'),\n",
       " (':)', 'NN')]"
      ]
     },
     "execution_count": 56,
     "metadata": {},
     "output_type": "execute_result"
    }
   ],
   "source": [
    "# NLTK allows us to tag each of our tokens using pos tagger\n",
    "tweets_tagged = pos_tag_sents(tweets_tokens)\n",
    "tweets_tagged[0]"
   ]
  },
  {
   "cell_type": "markdown",
   "metadata": {},
   "source": [
    "- We can see that our tweet is represented as a list and for each token we have information about its POS tag\n",
    "- Each token/tag pair is saved as a tuple\n",
    "- In NLTK, the abbreviation for adjective is JJ\n",
    "- The NLTK tagger marks singular nouns (NN) with different tags than plural nouns (NNS)\n",
    "- To simplify, we will only count singular nouns by keeping track of the NN tag"
   ]
  },
  {
   "cell_type": "code",
   "execution_count": 58,
   "metadata": {},
   "outputs": [
    {
     "name": "stdout",
     "output_type": "stream",
     "text": [
      "Total number of adjectives =  6092\n",
      "Total number of nouns =  13181\n"
     ]
    }
   ],
   "source": [
    "# We will keep track of how many times JJ and NN appear using an accumulator (count) variable\n",
    "JJ_count = 0\n",
    "NN_count = 0\n",
    "\n",
    "for tweet in tweets_tagged:\n",
    "    for pair in tweet:\n",
    "        tag = pair[1]\n",
    "        if tag == 'JJ':\n",
    "            JJ_count += 1\n",
    "        elif tag == 'NN':\n",
    "            NN_count += 1\n",
    "\n",
    "\n",
    "print('Total number of adjectives = ', JJ_count)\n",
    "print('Total number of nouns = ', NN_count)"
   ]
  },
  {
   "cell_type": "code",
   "execution_count": null,
   "metadata": {},
   "outputs": [],
   "source": []
  }
 ],
 "metadata": {
  "kernelspec": {
   "display_name": "Python 3",
   "language": "python",
   "name": "python3"
  },
  "language_info": {
   "codemirror_mode": {
    "name": "ipython",
    "version": 3
   },
   "file_extension": ".py",
   "mimetype": "text/x-python",
   "name": "python",
   "nbconvert_exporter": "python",
   "pygments_lexer": "ipython3",
   "version": "3.8.3"
  }
 },
 "nbformat": 4,
 "nbformat_minor": 4
}
